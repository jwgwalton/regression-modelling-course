{
 "cells": [
  {
   "cell_type": "code",
   "execution_count": 1,
   "metadata": {},
   "outputs": [
    {
     "name": "stderr",
     "output_type": "stream",
     "text": [
      "Classes and Methods for R developed in the\n",
      "Political Science Computational Laboratory\n",
      "Department of Political Science\n",
      "Stanford University\n",
      "Simon Jackman\n",
      "hurdle and zeroinfl functions by Achim Zeileis\n"
     ]
    }
   ],
   "source": [
    "library(foreign) # library for importing spss data\n",
    "library(pscl)\n",
    "library(MASS)"
   ]
  },
  {
   "cell_type": "code",
   "execution_count": 2,
   "metadata": {},
   "outputs": [],
   "source": [
    "dataset <- read.spss(\"fish.sav\", to.data.frame=TRUE)"
   ]
  },
  {
   "cell_type": "code",
   "execution_count": 3,
   "metadata": {},
   "outputs": [
    {
     "name": "stdout",
     "output_type": "stream",
     "text": [
      "'data.frame':\t250 obs. of  8 variables:\n",
      " $ nofish  : num  1 0 0 0 0 0 0 0 1 0 ...\n",
      " $ livebait: num  0 1 1 1 1 1 1 1 0 1 ...\n",
      " $ camper  : num  0 1 0 1 0 1 0 0 1 1 ...\n",
      " $ person  : num  1 1 1 2 1 4 3 4 3 1 ...\n",
      " $ child   : num  0 0 0 1 0 2 1 3 2 0 ...\n",
      " $ xb      : num  -0.896 -0.558 -0.402 -0.956 0.437 ...\n",
      " $ zg      : num  3.05 1.746 0.28 -0.602 0.528 ...\n",
      " $ count   : num  0 0 0 0 1 0 0 0 0 1 ...\n",
      " - attr(*, \"codepage\")= int 65001\n"
     ]
    }
   ],
   "source": [
    "str(dataset)"
   ]
  },
  {
   "cell_type": "code",
   "execution_count": 4,
   "metadata": {},
   "outputs": [],
   "source": [
    "# Zero Inflation Poisson model"
   ]
  },
  {
   "cell_type": "code",
   "execution_count": 5,
   "metadata": {},
   "outputs": [],
   "source": [
    "zip_model <- zeroinfl(count ~ child + camper | person, data = dataset) "
   ]
  },
  {
   "cell_type": "code",
   "execution_count": 6,
   "metadata": {},
   "outputs": [
    {
     "data": {
      "text/plain": [
       "\n",
       "Call:\n",
       "zeroinfl(formula = count ~ child + camper | person, data = dataset)\n",
       "\n",
       "Pearson residuals:\n",
       "    Min      1Q  Median      3Q     Max \n",
       "-1.2369 -0.7540 -0.6080 -0.1921 24.0847 \n",
       "\n",
       "Count model coefficients (poisson with log link):\n",
       "            Estimate Std. Error z value Pr(>|z|)    \n",
       "(Intercept)  1.59789    0.08554  18.680   <2e-16 ***\n",
       "child       -1.04284    0.09999 -10.430   <2e-16 ***\n",
       "camper       0.83402    0.09363   8.908   <2e-16 ***\n",
       "\n",
       "Zero-inflation model coefficients (binomial with logit link):\n",
       "            Estimate Std. Error z value Pr(>|z|)    \n",
       "(Intercept)   1.2974     0.3739   3.470 0.000520 ***\n",
       "person       -0.5643     0.1630  -3.463 0.000534 ***\n",
       "---\n",
       "Signif. codes:  0 '***' 0.001 '**' 0.01 '*' 0.05 '.' 0.1 ' ' 1 \n",
       "\n",
       "Number of iterations in BFGS optimization: 12 \n",
       "Log-likelihood: -1032 on 5 Df"
      ]
     },
     "metadata": {},
     "output_type": "display_data"
    }
   ],
   "source": [
    "summary(zip_model)"
   ]
  },
  {
   "cell_type": "code",
   "execution_count": 7,
   "metadata": {},
   "outputs": [],
   "source": [
    "# Standard Poisson Model"
   ]
  },
  {
   "cell_type": "code",
   "execution_count": 8,
   "metadata": {},
   "outputs": [],
   "source": [
    "poisson_model <- glm(count ~ child + camper, family=\"poisson\", data = dataset)"
   ]
  },
  {
   "cell_type": "code",
   "execution_count": 9,
   "metadata": {},
   "outputs": [
    {
     "data": {
      "text/plain": [
       "\n",
       "Call:\n",
       "glm(formula = count ~ child + camper, family = \"poisson\", data = dataset)\n",
       "\n",
       "Deviance Residuals: \n",
       "    Min       1Q   Median       3Q      Max  \n",
       "-3.7736  -2.2293  -1.2024  -0.3498  24.9492  \n",
       "\n",
       "Coefficients:\n",
       "            Estimate Std. Error z value Pr(>|z|)    \n",
       "(Intercept)  0.91026    0.08119   11.21   <2e-16 ***\n",
       "child       -1.23476    0.08029  -15.38   <2e-16 ***\n",
       "camper       1.05267    0.08871   11.87   <2e-16 ***\n",
       "---\n",
       "Signif. codes:  0 ‘***’ 0.001 ‘**’ 0.01 ‘*’ 0.05 ‘.’ 0.1 ‘ ’ 1\n",
       "\n",
       "(Dispersion parameter for poisson family taken to be 1)\n",
       "\n",
       "    Null deviance: 2958.4  on 249  degrees of freedom\n",
       "Residual deviance: 2380.1  on 247  degrees of freedom\n",
       "AIC: 2723.2\n",
       "\n",
       "Number of Fisher Scoring iterations: 6\n"
      ]
     },
     "metadata": {},
     "output_type": "display_data"
    }
   ],
   "source": [
    "summary(poisson_model)"
   ]
  },
  {
   "cell_type": "code",
   "execution_count": 10,
   "metadata": {},
   "outputs": [],
   "source": [
    "# compare the two different models"
   ]
  },
  {
   "cell_type": "code",
   "execution_count": 11,
   "metadata": {},
   "outputs": [
    {
     "name": "stdout",
     "output_type": "stream",
     "text": [
      "Vuong Non-Nested Hypothesis Test-Statistic: \n",
      "(test-statistic is asymptotically distributed N(0,1) under the\n",
      " null that the models are indistinguishible)\n",
      "-------------------------------------------------------------\n",
      "              Vuong z-statistic             H_A    p-value\n",
      "Raw                    3.574254 model1 > model2 0.00017561\n",
      "AIC-corrected          3.552392 model1 > model2 0.00019087\n",
      "BIC-corrected          3.513900 model1 > model2 0.00022079\n"
     ]
    }
   ],
   "source": [
    "vuong(zip_model, poisson_model)"
   ]
  },
  {
   "cell_type": "code",
   "execution_count": 12,
   "metadata": {},
   "outputs": [],
   "source": [
    "# Zero inflate Negative Binomial model"
   ]
  },
  {
   "cell_type": "code",
   "execution_count": 13,
   "metadata": {},
   "outputs": [],
   "source": [
    "zibn_model <- zeroinfl(count ~ child + camper | person, dist=\"negbin\", data = dataset) "
   ]
  },
  {
   "cell_type": "code",
   "execution_count": 14,
   "metadata": {},
   "outputs": [
    {
     "data": {
      "text/plain": [
       "\n",
       "Call:\n",
       "zeroinfl(formula = count ~ child + camper | person, data = dataset, dist = \"negbin\")\n",
       "\n",
       "Pearson residuals:\n",
       "    Min      1Q  Median      3Q     Max \n",
       "-0.5861 -0.4617 -0.3886 -0.1974 18.0135 \n",
       "\n",
       "Count model coefficients (negbin with log link):\n",
       "            Estimate Std. Error z value Pr(>|z|)    \n",
       "(Intercept)   1.3710     0.2561   5.353 8.64e-08 ***\n",
       "child        -1.5153     0.1956  -7.747 9.41e-15 ***\n",
       "camper        0.8791     0.2693   3.265   0.0011 ** \n",
       "Log(theta)   -0.9854     0.1760  -5.600 2.14e-08 ***\n",
       "\n",
       "Zero-inflation model coefficients (binomial with logit link):\n",
       "            Estimate Std. Error z value Pr(>|z|)  \n",
       "(Intercept)   1.6031     0.8365   1.916   0.0553 .\n",
       "person       -1.6666     0.6793  -2.453   0.0142 *\n",
       "---\n",
       "Signif. codes:  0 '***' 0.001 '**' 0.01 '*' 0.05 '.' 0.1 ' ' 1 \n",
       "\n",
       "Theta = 0.3733 \n",
       "Number of iterations in BFGS optimization: 22 \n",
       "Log-likelihood: -432.9 on 6 Df"
      ]
     },
     "metadata": {},
     "output_type": "display_data"
    }
   ],
   "source": [
    "summary(zibn_model)"
   ]
  },
  {
   "cell_type": "code",
   "execution_count": 15,
   "metadata": {},
   "outputs": [],
   "source": [
    "# Standard Negative Binomial Model"
   ]
  },
  {
   "cell_type": "code",
   "execution_count": 16,
   "metadata": {},
   "outputs": [],
   "source": [
    "neg_bin_model <- glm.nb (count ~ child + camper, data = dataset)"
   ]
  },
  {
   "cell_type": "code",
   "execution_count": 17,
   "metadata": {},
   "outputs": [
    {
     "data": {
      "text/plain": [
       "\n",
       "Call:\n",
       "glm.nb(formula = count ~ child + camper, data = dataset, init.theta = 0.2552931119, \n",
       "    link = log)\n",
       "\n",
       "Deviance Residuals: \n",
       "    Min       1Q   Median       3Q      Max  \n",
       "-1.3141  -1.0361  -0.7266  -0.1720   4.0163  \n",
       "\n",
       "Coefficients:\n",
       "            Estimate Std. Error z value Pr(>|z|)    \n",
       "(Intercept)   1.0727     0.2425   4.424 9.69e-06 ***\n",
       "child        -1.3753     0.1958  -7.025 2.14e-12 ***\n",
       "camper        0.9094     0.2836   3.206  0.00135 ** \n",
       "---\n",
       "Signif. codes:  0 ‘***’ 0.001 ‘**’ 0.01 ‘*’ 0.05 ‘.’ 0.1 ‘ ’ 1\n",
       "\n",
       "(Dispersion parameter for Negative Binomial(0.2553) family taken to be 1)\n",
       "\n",
       "    Null deviance: 258.93  on 249  degrees of freedom\n",
       "Residual deviance: 201.89  on 247  degrees of freedom\n",
       "AIC: 887.42\n",
       "\n",
       "Number of Fisher Scoring iterations: 1\n",
       "\n",
       "\n",
       "              Theta:  0.2553 \n",
       "          Std. Err.:  0.0329 \n",
       "\n",
       " 2 x log-likelihood:  -879.4210 "
      ]
     },
     "metadata": {},
     "output_type": "display_data"
    }
   ],
   "source": [
    "summary(neg_bin_model)"
   ]
  },
  {
   "cell_type": "code",
   "execution_count": 18,
   "metadata": {},
   "outputs": [],
   "source": [
    "# Compare the two models"
   ]
  },
  {
   "cell_type": "code",
   "execution_count": 19,
   "metadata": {},
   "outputs": [
    {
     "name": "stdout",
     "output_type": "stream",
     "text": [
      "Vuong Non-Nested Hypothesis Test-Statistic: \n",
      "(test-statistic is asymptotically distributed N(0,1) under the\n",
      " null that the models are indistinguishible)\n",
      "-------------------------------------------------------------\n",
      "              Vuong z-statistic             H_A  p-value\n",
      "Raw                   1.7017116 model1 > model2 0.044405\n",
      "AIC-corrected         1.2026316 model1 > model2 0.114559\n",
      "BIC-corrected         0.3238863 model1 > model2 0.373012\n"
     ]
    }
   ],
   "source": [
    "vuong(zibn_model, neg_bin_model)"
   ]
  },
  {
   "cell_type": "code",
   "execution_count": null,
   "metadata": {},
   "outputs": [],
   "source": []
  }
 ],
 "metadata": {
  "kernelspec": {
   "display_name": "R",
   "language": "R",
   "name": "ir"
  },
  "language_info": {
   "codemirror_mode": "r",
   "file_extension": ".r",
   "mimetype": "text/x-r-source",
   "name": "R",
   "pygments_lexer": "r",
   "version": "3.4.3"
  }
 },
 "nbformat": 4,
 "nbformat_minor": 2
}
