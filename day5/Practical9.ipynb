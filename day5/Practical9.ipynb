{
 "cells": [
  {
   "cell_type": "code",
   "execution_count": 6,
   "metadata": {},
   "outputs": [],
   "source": [
    "library(foreign) # library for importing spss data"
   ]
  },
  {
   "cell_type": "code",
   "execution_count": 7,
   "metadata": {},
   "outputs": [],
   "source": [
    "dataset <- read.spss(\"earinfection.sav\", to.data.frame=TRUE)"
   ]
  },
  {
   "cell_type": "code",
   "execution_count": 8,
   "metadata": {},
   "outputs": [
    {
     "name": "stdout",
     "output_type": "stream",
     "text": [
      "'data.frame':\t287 obs. of  5 variables:\n",
      " $ Swimmer   : Factor w/ 2 levels \"Occasional\",\"Frequent\": 1 1 1 1 1 1 1 1 1 1 ...\n",
      " $ Location  : Factor w/ 2 levels \"NonBeach\",\"Beach\": 1 1 1 1 1 1 1 1 1 1 ...\n",
      " $ Age       : num  19 18 16 17 17 18 19 16 17 19 ...\n",
      " $ Sex       : Factor w/ 2 levels \"Male\",\"Female\": 1 1 1 1 1 1 1 1 1 1 ...\n",
      " $ Infections: num  0 0 0 0 0 0 0 0 0 0 ...\n",
      " - attr(*, \"codepage\")= int 65001\n"
     ]
    }
   ],
   "source": [
    "str(dataset)"
   ]
  },
  {
   "cell_type": "code",
   "execution_count": 9,
   "metadata": {},
   "outputs": [],
   "source": [
    "fitted_poisson_model <- glm(Infections ~ Swimmer + Location + Sex + Age, poisson(link=log), dataset)"
   ]
  },
  {
   "cell_type": "code",
   "execution_count": 13,
   "metadata": {},
   "outputs": [
    {
     "data": {
      "text/plain": [
       "\n",
       "Call:\n",
       "glm(formula = Infections ~ Swimmer + Location + Sex + Age, family = poisson(link = log), \n",
       "    data = dataset)\n",
       "\n",
       "Deviance Residuals: \n",
       "    Min       1Q   Median       3Q      Max  \n",
       "-2.2645  -1.5740  -1.1165   0.5223   6.5151  \n",
       "\n",
       "Coefficients:\n",
       "                Estimate Std. Error z value Pr(>|z|)    \n",
       "(Intercept)      1.32922    0.25166   5.282 1.28e-07 ***\n",
       "SwimmerFrequent -0.60863    0.10502  -5.795 6.82e-09 ***\n",
       "LocationBeach   -0.48960    0.10483  -4.670 3.01e-06 ***\n",
       "SexFemale        0.02938    0.10916   0.269    0.788    \n",
       "Age             -0.02606    0.01222  -2.132    0.033 *  \n",
       "---\n",
       "Signif. codes:  0 ‘***’ 0.001 ‘**’ 0.01 ‘*’ 0.05 ‘.’ 0.1 ‘ ’ 1\n",
       "\n",
       "(Dispersion parameter for poisson family taken to be 1)\n",
       "\n",
       "    Null deviance: 824.51  on 286  degrees of freedom\n",
       "Residual deviance: 760.01  on 282  degrees of freedom\n",
       "AIC: 1142.4\n",
       "\n",
       "Number of Fisher Scoring iterations: 6\n"
      ]
     },
     "metadata": {},
     "output_type": "display_data"
    }
   ],
   "source": [
    "summary(fitted_poisson_model)"
   ]
  },
  {
   "cell_type": "code",
   "execution_count": 14,
   "metadata": {},
   "outputs": [
    {
     "data": {
      "text/html": [
       "<table>\n",
       "<thead><tr><th></th><th scope=col>Df</th><th scope=col>Deviance</th><th scope=col>Resid. Df</th><th scope=col>Resid. Dev</th></tr></thead>\n",
       "<tbody>\n",
       "\t<tr><th scope=row>NULL</th><td>NA          </td><td>          NA</td><td>286         </td><td>824.5085    </td></tr>\n",
       "\t<tr><th scope=row>Swimmer</th><td> 1          </td><td>34.698912634</td><td>285         </td><td>789.8096    </td></tr>\n",
       "\t<tr><th scope=row>Location</th><td> 1          </td><td>25.159868324</td><td>284         </td><td>764.6497    </td></tr>\n",
       "\t<tr><th scope=row>Sex</th><td> 1          </td><td> 0.001720432</td><td>283         </td><td>764.6480    </td></tr>\n",
       "\t<tr><th scope=row>Age</th><td> 1          </td><td> 4.641992512</td><td>282         </td><td>760.0060    </td></tr>\n",
       "</tbody>\n",
       "</table>\n"
      ],
      "text/latex": [
       "\\begin{tabular}{r|llll}\n",
       "  & Df & Deviance & Resid. Df & Resid. Dev\\\\\n",
       "\\hline\n",
       "\tNULL & NA           &           NA & 286          & 824.5085    \\\\\n",
       "\tSwimmer &  1           & 34.698912634 & 285          & 789.8096    \\\\\n",
       "\tLocation &  1           & 25.159868324 & 284          & 764.6497    \\\\\n",
       "\tSex &  1           &  0.001720432 & 283          & 764.6480    \\\\\n",
       "\tAge &  1           &  4.641992512 & 282          & 760.0060    \\\\\n",
       "\\end{tabular}\n"
      ],
      "text/markdown": [
       "\n",
       "| <!--/--> | Df | Deviance | Resid. Df | Resid. Dev | \n",
       "|---|---|---|---|---|\n",
       "| NULL | NA           |           NA | 286          | 824.5085     | \n",
       "| Swimmer |  1           | 34.698912634 | 285          | 789.8096     | \n",
       "| Location |  1           | 25.159868324 | 284          | 764.6497     | \n",
       "| Sex |  1           |  0.001720432 | 283          | 764.6480     | \n",
       "| Age |  1           |  4.641992512 | 282          | 760.0060     | \n",
       "\n",
       "\n"
      ],
      "text/plain": [
       "         Df Deviance     Resid. Df Resid. Dev\n",
       "NULL     NA           NA 286       824.5085  \n",
       "Swimmer   1 34.698912634 285       789.8096  \n",
       "Location  1 25.159868324 284       764.6497  \n",
       "Sex       1  0.001720432 283       764.6480  \n",
       "Age       1  4.641992512 282       760.0060  "
      ]
     },
     "metadata": {},
     "output_type": "display_data"
    }
   ],
   "source": [
    "anova(fitted_poisson_model)"
   ]
  }
 ],
 "metadata": {
  "kernelspec": {
   "display_name": "R",
   "language": "R",
   "name": "ir"
  },
  "language_info": {
   "codemirror_mode": "r",
   "file_extension": ".r",
   "mimetype": "text/x-r-source",
   "name": "R",
   "pygments_lexer": "r",
   "version": "3.4.3"
  }
 },
 "nbformat": 4,
 "nbformat_minor": 2
}
