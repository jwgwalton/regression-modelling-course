{
 "cells": [
  {
   "cell_type": "code",
   "execution_count": 2,
   "metadata": {},
   "outputs": [],
   "source": [
    "library(dummies) # create dummy variables for categorical data\n",
    "library(foreign) # library for importing sav file (SPSS) into R."
   ]
  },
  {
   "cell_type": "code",
   "execution_count": 3,
   "metadata": {},
   "outputs": [],
   "source": [
    "dataset = read.spss(\"./data/Depression.sav\", to.data.frame=TRUE)"
   ]
  },
  {
   "cell_type": "code",
   "execution_count": 4,
   "metadata": {},
   "outputs": [
    {
     "name": "stdout",
     "output_type": "stream",
     "text": [
      "'data.frame':\t36 obs. of  7 variables:\n",
      " $ y        : num  56 41 40 28 55 25 46 71 48 63 ...\n",
      " $ x2       : num  21 23 30 19 28 23 33 67 42 33 ...\n",
      " $ D3       : num  1 0 0 0 1 0 0 0 0 1 ...\n",
      " $ D4       : num  0 1 1 0 0 0 1 0 1 0 ...\n",
      " $ Treatment: Factor w/ 3 levels \"1\",\"2\",\"3\": 1 2 2 3 1 3 2 3 2 1 ...\n",
      " $ x2D3     : num  21 0 0 0 28 0 0 0 0 33 ...\n",
      " $ x2D4     : num  0 23 30 0 0 0 33 0 42 0 ...\n",
      " - attr(*, \"codepage\")= int 65001\n"
     ]
    }
   ],
   "source": [
    "str(dataset)"
   ]
  },
  {
   "cell_type": "code",
   "execution_count": null,
   "metadata": {},
   "outputs": [],
   "source": []
  }
 ],
 "metadata": {
  "kernelspec": {
   "display_name": "R",
   "language": "R",
   "name": "ir"
  },
  "language_info": {
   "codemirror_mode": "r",
   "file_extension": ".r",
   "mimetype": "text/x-r-source",
   "name": "R",
   "pygments_lexer": "r",
   "version": "3.4.3"
  }
 },
 "nbformat": 4,
 "nbformat_minor": 2
}
