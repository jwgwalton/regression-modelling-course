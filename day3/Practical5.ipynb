{
 "cells": [
  {
   "cell_type": "code",
   "execution_count": 22,
   "metadata": {},
   "outputs": [],
   "source": [
    "# install mctest package\n",
    "install.packages('mctest', repos='http://cran.us.r-project.org')"
   ]
  },
  {
   "cell_type": "code",
   "execution_count": null,
   "metadata": {},
   "outputs": [],
   "source": [
    "library(foreign) # library for importing sav file (SPSS) into R.\n",
    "library(mctest) # package for running multicolinearity tests"
   ]
  },
  {
   "cell_type": "code",
   "execution_count": 15,
   "metadata": {},
   "outputs": [],
   "source": [
    "dataset = read.spss(\"./data/cars.sav\", to.data.frame=TRUE)"
   ]
  },
  {
   "cell_type": "code",
   "execution_count": 16,
   "metadata": {},
   "outputs": [
    {
     "name": "stdout",
     "output_type": "stream",
     "text": [
      "'data.frame':\t81 obs. of  8 variables:\n",
      " $ Manufacturer: Factor w/ 32 levels \"Acura                                     \",..: 1 1 2 2 3 4 4 4 4 5 ...\n",
      " $ Model       : Factor w/ 81 levels \"100                                       \",..: 43 48 1 8 5 20 50 62 63 30 ...\n",
      " $ Type        : Factor w/ 5 levels \"Compact              \",..: 4 3 3 1 3 3 2 3 2 2 ...\n",
      " $ Price       : num  15.9 33.9 37.7 29.1 30 15.7 20.8 26.3 23.7 34.7 ...\n",
      " $ Citympg     : num  25 18 19 20 22 22 19 19 16 16 ...\n",
      " $ EngineSize  : num  1.8 3.2 2.8 2.8 3.5 2.2 3.8 3.8 5.7 4.9 ...\n",
      " $ Horsepower  : num  140 200 172 172 208 110 170 170 180 200 ...\n",
      " $ Weight      : num  2705 3560 3405 3375 3640 ...\n",
      " - attr(*, \"codepage\")= int 65001\n"
     ]
    }
   ],
   "source": [
    "str(dataset)"
   ]
  },
  {
   "cell_type": "code",
   "execution_count": 17,
   "metadata": {},
   "outputs": [],
   "source": [
    "# Add extra features\n",
    "dataset$Horsepower2 <- dataset$Horsepower^2\n",
    "dataset$Citympg2 <- dataset$Citympg^2"
   ]
  },
  {
   "cell_type": "code",
   "execution_count": 24,
   "metadata": {},
   "outputs": [
    {
     "name": "stdout",
     "output_type": "stream",
     "text": [
      "'data.frame':\t81 obs. of  10 variables:\n",
      " $ Manufacturer: Factor w/ 32 levels \"Acura                                     \",..: 1 1 2 2 3 4 4 4 4 5 ...\n",
      " $ Model       : Factor w/ 81 levels \"100                                       \",..: 43 48 1 8 5 20 50 62 63 30 ...\n",
      " $ Type        : Factor w/ 5 levels \"Compact              \",..: 4 3 3 1 3 3 2 3 2 2 ...\n",
      " $ Price       : num  15.9 33.9 37.7 29.1 30 15.7 20.8 26.3 23.7 34.7 ...\n",
      " $ Citympg     : num  25 18 19 20 22 22 19 19 16 16 ...\n",
      " $ EngineSize  : num  1.8 3.2 2.8 2.8 3.5 2.2 3.8 3.8 5.7 4.9 ...\n",
      " $ Horsepower  : num  140 200 172 172 208 110 170 170 180 200 ...\n",
      " $ Weight      : num  2705 3560 3405 3375 3640 ...\n",
      " $ Horsepower2 : num  19600 40000 29584 29584 43264 ...\n",
      " $ Citympg2    : num  625 324 361 400 484 484 361 361 256 256 ...\n",
      " - attr(*, \"codepage\")= int 65001\n"
     ]
    }
   ],
   "source": [
    "str(dataset)"
   ]
  },
  {
   "cell_type": "code",
   "execution_count": 19,
   "metadata": {},
   "outputs": [],
   "source": [
    "fitted_model <- lm(Price ~ Citympg + Citympg2 + EngineSize + Horsepower + Horsepower2+  Weight, dataset)"
   ]
  },
  {
   "cell_type": "code",
   "execution_count": 20,
   "metadata": {},
   "outputs": [
    {
     "data": {
      "text/html": [
       "<table>\n",
       "<thead><tr><th></th><th scope=col>Df</th><th scope=col>Sum Sq</th><th scope=col>Mean Sq</th><th scope=col>F value</th><th scope=col>Pr(&gt;F)</th></tr></thead>\n",
       "<tbody>\n",
       "\t<tr><th scope=row>Citympg</th><td> 1          </td><td>2743.500653 </td><td>2743.500653 </td><td>121.5739256 </td><td>2.810266e-17</td></tr>\n",
       "\t<tr><th scope=row>Citympg2</th><td> 1          </td><td>1065.357242 </td><td>1065.357242 </td><td> 47.2096341 </td><td>1.709079e-09</td></tr>\n",
       "\t<tr><th scope=row>EngineSize</th><td> 1          </td><td>  10.704627 </td><td>  10.704627 </td><td>  0.4743587 </td><td>4.931425e-01</td></tr>\n",
       "\t<tr><th scope=row>Horsepower</th><td> 1          </td><td> 640.750010 </td><td> 640.750010 </td><td> 28.3938311 </td><td>1.028033e-06</td></tr>\n",
       "\t<tr><th scope=row>Horsepower2</th><td> 1          </td><td>   3.394763 </td><td>   3.394763 </td><td>  0.1504336 </td><td>6.992348e-01</td></tr>\n",
       "\t<tr><th scope=row>Weight</th><td> 1          </td><td>  52.268851 </td><td>  52.268851 </td><td>  2.3162121 </td><td>1.322934e-01</td></tr>\n",
       "\t<tr><th scope=row>Residuals</th><td>74          </td><td>1669.922620 </td><td>  22.566522 </td><td>         NA </td><td>          NA</td></tr>\n",
       "</tbody>\n",
       "</table>\n"
      ],
      "text/latex": [
       "\\begin{tabular}{r|lllll}\n",
       "  & Df & Sum Sq & Mean Sq & F value & Pr(>F)\\\\\n",
       "\\hline\n",
       "\tCitympg &  1           & 2743.500653  & 2743.500653  & 121.5739256  & 2.810266e-17\\\\\n",
       "\tCitympg2 &  1           & 1065.357242  & 1065.357242  &  47.2096341  & 1.709079e-09\\\\\n",
       "\tEngineSize &  1           &   10.704627  &   10.704627  &   0.4743587  & 4.931425e-01\\\\\n",
       "\tHorsepower &  1           &  640.750010  &  640.750010  &  28.3938311  & 1.028033e-06\\\\\n",
       "\tHorsepower2 &  1           &    3.394763  &    3.394763  &   0.1504336  & 6.992348e-01\\\\\n",
       "\tWeight &  1           &   52.268851  &   52.268851  &   2.3162121  & 1.322934e-01\\\\\n",
       "\tResiduals & 74           & 1669.922620  &   22.566522  &          NA  &           NA\\\\\n",
       "\\end{tabular}\n"
      ],
      "text/markdown": [
       "\n",
       "| <!--/--> | Df | Sum Sq | Mean Sq | F value | Pr(>F) | \n",
       "|---|---|---|---|---|---|---|\n",
       "| Citympg |  1           | 2743.500653  | 2743.500653  | 121.5739256  | 2.810266e-17 | \n",
       "| Citympg2 |  1           | 1065.357242  | 1065.357242  |  47.2096341  | 1.709079e-09 | \n",
       "| EngineSize |  1           |   10.704627  |   10.704627  |   0.4743587  | 4.931425e-01 | \n",
       "| Horsepower |  1           |  640.750010  |  640.750010  |  28.3938311  | 1.028033e-06 | \n",
       "| Horsepower2 |  1           |    3.394763  |    3.394763  |   0.1504336  | 6.992348e-01 | \n",
       "| Weight |  1           |   52.268851  |   52.268851  |   2.3162121  | 1.322934e-01 | \n",
       "| Residuals | 74           | 1669.922620  |   22.566522  |          NA  |           NA | \n",
       "\n",
       "\n"
      ],
      "text/plain": [
       "            Df Sum Sq      Mean Sq     F value     Pr(>F)      \n",
       "Citympg      1 2743.500653 2743.500653 121.5739256 2.810266e-17\n",
       "Citympg2     1 1065.357242 1065.357242  47.2096341 1.709079e-09\n",
       "EngineSize   1   10.704627   10.704627   0.4743587 4.931425e-01\n",
       "Horsepower   1  640.750010  640.750010  28.3938311 1.028033e-06\n",
       "Horsepower2  1    3.394763    3.394763   0.1504336 6.992348e-01\n",
       "Weight       1   52.268851   52.268851   2.3162121 1.322934e-01\n",
       "Residuals   74 1669.922620   22.566522          NA           NA"
      ]
     },
     "metadata": {},
     "output_type": "display_data"
    }
   ],
   "source": [
    "anova(fitted_model)"
   ]
  },
  {
   "cell_type": "code",
   "execution_count": null,
   "metadata": {},
   "outputs": [],
   "source": [
    "# TODO: MCT tests, see what variables are colinear"
   ]
  },
  {
   "cell_type": "code",
   "execution_count": 25,
   "metadata": {},
   "outputs": [
    {
     "ename": "ERROR",
     "evalue": "Error in eigprop(fitted_model): X matrix must contain more than one variable\n",
     "output_type": "error",
     "traceback": [
      "Error in eigprop(fitted_model): X matrix must contain more than one variable\nTraceback:\n",
      "1. eigprop(fitted_model)",
      "2. stop(\"X matrix must contain more than one variable\")"
     ]
    }
   ],
   "source": [
    "eigprop(fitted_model) # all of the variables and data except the independent"
   ]
  },
  {
   "cell_type": "code",
   "execution_count": null,
   "metadata": {},
   "outputs": [],
   "source": []
  }
 ],
 "metadata": {
  "kernelspec": {
   "display_name": "R",
   "language": "R",
   "name": "ir"
  },
  "language_info": {
   "codemirror_mode": "r",
   "file_extension": ".r",
   "mimetype": "text/x-r-source",
   "name": "R",
   "pygments_lexer": "r",
   "version": "3.4.3"
  }
 },
 "nbformat": 4,
 "nbformat_minor": 2
}
