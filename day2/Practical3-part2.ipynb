{
 "cells": [
  {
   "cell_type": "code",
   "execution_count": 1,
   "metadata": {},
   "outputs": [],
   "source": [
    "# Exploratory analysis in previous notebook showed all varaibles are correlated with bdyfatpercentage,\n",
    "\n",
    "# In this notebook we do a multiple linear regression\n",
    "# I then reduce the number of variables, rerunning analyses at each step to check which are the least useful"
   ]
  },
  {
   "cell_type": "code",
   "execution_count": 2,
   "metadata": {},
   "outputs": [],
   "source": [
    "library(foreign) # library for importing sav file (SPSS) into R."
   ]
  },
  {
   "cell_type": "code",
   "execution_count": 3,
   "metadata": {},
   "outputs": [],
   "source": [
    "dataset = read.spss(\"Bodyfat.sav\", to.data.frame=TRUE)"
   ]
  },
  {
   "cell_type": "code",
   "execution_count": 6,
   "metadata": {},
   "outputs": [],
   "source": [
    "variables <- c(\"Age\", \"Weight\", \"Height\", \"Neck\", \"Chest\", \"Abdomen\", \"Hip\", \"Thigh\", \"Knee\", \"Ankle\", \"Biceps\", \"Forearm\", \"Wrist\")"
   ]
  },
  {
   "cell_type": "code",
   "execution_count": 9,
   "metadata": {},
   "outputs": [],
   "source": [
    "fitted_model <- lm(PctBodyFat ~ Age + Weight + Height + Neck + Chest + Abdomen + Hip + Thigh + Knee + Ankle + Biceps + Forearm + Wrist, dataset)"
   ]
  },
  {
   "cell_type": "code",
   "execution_count": 10,
   "metadata": {},
   "outputs": [
    {
     "data": {
      "text/html": [
       "<table>\n",
       "<thead><tr><th></th><th scope=col>Df</th><th scope=col>Sum Sq</th><th scope=col>Mean Sq</th><th scope=col>F value</th><th scope=col>Pr(&gt;F)</th></tr></thead>\n",
       "<tbody>\n",
       "\t<tr><th scope=row>Age</th><td>  1         </td><td>1.493300e+03</td><td>1.493300e+03</td><td>8.040732e+01</td><td>9.215379e-17</td></tr>\n",
       "\t<tr><th scope=row>Weight</th><td>  1         </td><td>6.674331e+03</td><td>6.674331e+03</td><td>3.593818e+02</td><td>1.823986e-49</td></tr>\n",
       "\t<tr><th scope=row>Height</th><td>  1         </td><td>1.580719e+03</td><td>1.580719e+03</td><td>8.511439e+01</td><td>1.574739e-17</td></tr>\n",
       "\t<tr><th scope=row>Neck</th><td>  1         </td><td>3.354620e+02</td><td>3.354620e+02</td><td>1.806308e+01</td><td>3.069754e-05</td></tr>\n",
       "\t<tr><th scope=row>Chest</th><td>  1         </td><td>2.437959e+02</td><td>2.437959e+02</td><td>1.312728e+01</td><td>3.557535e-04</td></tr>\n",
       "\t<tr><th scope=row>Abdomen</th><td>  1         </td><td>2.415070e+03</td><td>2.415070e+03</td><td>1.300404e+02</td><td>2.552410e-24</td></tr>\n",
       "\t<tr><th scope=row>Hip</th><td>  1         </td><td>1.472110e+01</td><td>1.472110e+01</td><td>7.926632e-01</td><td>3.741951e-01</td></tr>\n",
       "\t<tr><th scope=row>Thigh</th><td>  1         </td><td>1.192963e+02</td><td>1.192963e+02</td><td>6.423554e+00</td><td>1.190391e-02</td></tr>\n",
       "\t<tr><th scope=row>Knee</th><td>  1         </td><td>5.961769e-03</td><td>5.961769e-03</td><td>3.210137e-04</td><td>9.857202e-01</td></tr>\n",
       "\t<tr><th scope=row>Ankle</th><td>  1         </td><td>5.590714e-02</td><td>5.590714e-02</td><td>3.010341e-03</td><td>9.562908e-01</td></tr>\n",
       "\t<tr><th scope=row>Biceps</th><td>  1         </td><td>4.515449e+01</td><td>4.515449e+01</td><td>2.431360e+00</td><td>1.202584e-01</td></tr>\n",
       "\t<tr><th scope=row>Forearm</th><td>  1         </td><td>5.816872e+01</td><td>5.816872e+01</td><td>3.132116e+00</td><td>7.804443e-02</td></tr>\n",
       "\t<tr><th scope=row>Wrist</th><td>  1         </td><td>1.788451e+02</td><td>1.788451e+02</td><td>9.629981e+00</td><td>2.145717e-03</td></tr>\n",
       "\t<tr><th scope=row>Residuals</th><td>238         </td><td>4.420064e+03</td><td>1.857170e+01</td><td>          NA</td><td>          NA</td></tr>\n",
       "</tbody>\n",
       "</table>\n"
      ],
      "text/latex": [
       "\\begin{tabular}{r|lllll}\n",
       "  & Df & Sum Sq & Mean Sq & F value & Pr(>F)\\\\\n",
       "\\hline\n",
       "\tAge &   1          & 1.493300e+03 & 1.493300e+03 & 8.040732e+01 & 9.215379e-17\\\\\n",
       "\tWeight &   1          & 6.674331e+03 & 6.674331e+03 & 3.593818e+02 & 1.823986e-49\\\\\n",
       "\tHeight &   1          & 1.580719e+03 & 1.580719e+03 & 8.511439e+01 & 1.574739e-17\\\\\n",
       "\tNeck &   1          & 3.354620e+02 & 3.354620e+02 & 1.806308e+01 & 3.069754e-05\\\\\n",
       "\tChest &   1          & 2.437959e+02 & 2.437959e+02 & 1.312728e+01 & 3.557535e-04\\\\\n",
       "\tAbdomen &   1          & 2.415070e+03 & 2.415070e+03 & 1.300404e+02 & 2.552410e-24\\\\\n",
       "\tHip &   1          & 1.472110e+01 & 1.472110e+01 & 7.926632e-01 & 3.741951e-01\\\\\n",
       "\tThigh &   1          & 1.192963e+02 & 1.192963e+02 & 6.423554e+00 & 1.190391e-02\\\\\n",
       "\tKnee &   1          & 5.961769e-03 & 5.961769e-03 & 3.210137e-04 & 9.857202e-01\\\\\n",
       "\tAnkle &   1          & 5.590714e-02 & 5.590714e-02 & 3.010341e-03 & 9.562908e-01\\\\\n",
       "\tBiceps &   1          & 4.515449e+01 & 4.515449e+01 & 2.431360e+00 & 1.202584e-01\\\\\n",
       "\tForearm &   1          & 5.816872e+01 & 5.816872e+01 & 3.132116e+00 & 7.804443e-02\\\\\n",
       "\tWrist &   1          & 1.788451e+02 & 1.788451e+02 & 9.629981e+00 & 2.145717e-03\\\\\n",
       "\tResiduals & 238          & 4.420064e+03 & 1.857170e+01 &           NA &           NA\\\\\n",
       "\\end{tabular}\n"
      ],
      "text/markdown": [
       "\n",
       "| <!--/--> | Df | Sum Sq | Mean Sq | F value | Pr(>F) | \n",
       "|---|---|---|---|---|---|---|---|---|---|---|---|---|---|\n",
       "| Age |   1          | 1.493300e+03 | 1.493300e+03 | 8.040732e+01 | 9.215379e-17 | \n",
       "| Weight |   1          | 6.674331e+03 | 6.674331e+03 | 3.593818e+02 | 1.823986e-49 | \n",
       "| Height |   1          | 1.580719e+03 | 1.580719e+03 | 8.511439e+01 | 1.574739e-17 | \n",
       "| Neck |   1          | 3.354620e+02 | 3.354620e+02 | 1.806308e+01 | 3.069754e-05 | \n",
       "| Chest |   1          | 2.437959e+02 | 2.437959e+02 | 1.312728e+01 | 3.557535e-04 | \n",
       "| Abdomen |   1          | 2.415070e+03 | 2.415070e+03 | 1.300404e+02 | 2.552410e-24 | \n",
       "| Hip |   1          | 1.472110e+01 | 1.472110e+01 | 7.926632e-01 | 3.741951e-01 | \n",
       "| Thigh |   1          | 1.192963e+02 | 1.192963e+02 | 6.423554e+00 | 1.190391e-02 | \n",
       "| Knee |   1          | 5.961769e-03 | 5.961769e-03 | 3.210137e-04 | 9.857202e-01 | \n",
       "| Ankle |   1          | 5.590714e-02 | 5.590714e-02 | 3.010341e-03 | 9.562908e-01 | \n",
       "| Biceps |   1          | 4.515449e+01 | 4.515449e+01 | 2.431360e+00 | 1.202584e-01 | \n",
       "| Forearm |   1          | 5.816872e+01 | 5.816872e+01 | 3.132116e+00 | 7.804443e-02 | \n",
       "| Wrist |   1          | 1.788451e+02 | 1.788451e+02 | 9.629981e+00 | 2.145717e-03 | \n",
       "| Residuals | 238          | 4.420064e+03 | 1.857170e+01 |           NA |           NA | \n",
       "\n",
       "\n"
      ],
      "text/plain": [
       "          Df  Sum Sq       Mean Sq      F value      Pr(>F)      \n",
       "Age         1 1.493300e+03 1.493300e+03 8.040732e+01 9.215379e-17\n",
       "Weight      1 6.674331e+03 6.674331e+03 3.593818e+02 1.823986e-49\n",
       "Height      1 1.580719e+03 1.580719e+03 8.511439e+01 1.574739e-17\n",
       "Neck        1 3.354620e+02 3.354620e+02 1.806308e+01 3.069754e-05\n",
       "Chest       1 2.437959e+02 2.437959e+02 1.312728e+01 3.557535e-04\n",
       "Abdomen     1 2.415070e+03 2.415070e+03 1.300404e+02 2.552410e-24\n",
       "Hip         1 1.472110e+01 1.472110e+01 7.926632e-01 3.741951e-01\n",
       "Thigh       1 1.192963e+02 1.192963e+02 6.423554e+00 1.190391e-02\n",
       "Knee        1 5.961769e-03 5.961769e-03 3.210137e-04 9.857202e-01\n",
       "Ankle       1 5.590714e-02 5.590714e-02 3.010341e-03 9.562908e-01\n",
       "Biceps      1 4.515449e+01 4.515449e+01 2.431360e+00 1.202584e-01\n",
       "Forearm     1 5.816872e+01 5.816872e+01 3.132116e+00 7.804443e-02\n",
       "Wrist       1 1.788451e+02 1.788451e+02 9.629981e+00 2.145717e-03\n",
       "Residuals 238 4.420064e+03 1.857170e+01           NA           NA"
      ]
     },
     "metadata": {},
     "output_type": "display_data"
    }
   ],
   "source": [
    "anova(fitted_model)"
   ]
  },
  {
   "cell_type": "code",
   "execution_count": 14,
   "metadata": {},
   "outputs": [
    {
     "data": {
      "text/html": [
       "0.748559840386625"
      ],
      "text/latex": [
       "0.748559840386625"
      ],
      "text/markdown": [
       "0.748559840386625"
      ],
      "text/plain": [
       "[1] 0.7485598"
      ]
     },
     "metadata": {},
     "output_type": "display_data"
    }
   ],
   "source": [
    "# adjusted R^2 score for seeing the fit of multiple linear regression\n",
    "summary(fitted_model)$adj.r.squared"
   ]
  },
  {
   "cell_type": "code",
   "execution_count": 11,
   "metadata": {},
   "outputs": [],
   "source": [
    "# Largest p-value is Knee, remove it as its not a meaningful variable in the underlying relationship"
   ]
  },
  {
   "cell_type": "code",
   "execution_count": 12,
   "metadata": {},
   "outputs": [],
   "source": [
    "fitted_model_reduced_1 <- lm(PctBodyFat ~ Age + Weight + Height + Neck + Chest + Abdomen + Hip + Thigh + Ankle + Biceps + Forearm + Wrist, dataset)"
   ]
  },
  {
   "cell_type": "code",
   "execution_count": 13,
   "metadata": {},
   "outputs": [
    {
     "data": {
      "text/html": [
       "<table>\n",
       "<thead><tr><th></th><th scope=col>Df</th><th scope=col>Sum Sq</th><th scope=col>Mean Sq</th><th scope=col>F value</th><th scope=col>Pr(&gt;F)</th></tr></thead>\n",
       "<tbody>\n",
       "\t<tr><th scope=row>Age</th><td>  1         </td><td>1.493300e+03</td><td>1.493300e+03</td><td>8.074409e+01</td><td>7.954249e-17</td></tr>\n",
       "\t<tr><th scope=row>Weight</th><td>  1         </td><td>6.674331e+03</td><td>6.674331e+03</td><td>3.608870e+02</td><td>1.149998e-49</td></tr>\n",
       "\t<tr><th scope=row>Height</th><td>  1         </td><td>1.580719e+03</td><td>1.580719e+03</td><td>8.547087e+01</td><td>1.349318e-17</td></tr>\n",
       "\t<tr><th scope=row>Neck</th><td>  1         </td><td>3.354620e+02</td><td>3.354620e+02</td><td>1.813873e+01</td><td>2.954205e-05</td></tr>\n",
       "\t<tr><th scope=row>Chest</th><td>  1         </td><td>2.437959e+02</td><td>2.437959e+02</td><td>1.318226e+01</td><td>3.457188e-04</td></tr>\n",
       "\t<tr><th scope=row>Abdomen</th><td>  1         </td><td>2.415070e+03</td><td>2.415070e+03</td><td>1.305850e+02</td><td>2.049471e-24</td></tr>\n",
       "\t<tr><th scope=row>Hip</th><td>  1         </td><td>1.472110e+01</td><td>1.472110e+01</td><td>7.959831e-01</td><td>3.731944e-01</td></tr>\n",
       "\t<tr><th scope=row>Thigh</th><td>  1         </td><td>1.192963e+02</td><td>1.192963e+02</td><td>6.450458e+00</td><td>1.172706e-02</td></tr>\n",
       "\t<tr><th scope=row>Ankle</th><td>  1         </td><td>4.613902e-02</td><td>4.613902e-02</td><td>2.494778e-03</td><td>9.602057e-01</td></tr>\n",
       "\t<tr><th scope=row>Biceps</th><td>  1         </td><td>4.517016e+01</td><td>4.517016e+01</td><td>2.442391e+00</td><td>1.194192e-01</td></tr>\n",
       "\t<tr><th scope=row>Forearm</th><td>  1         </td><td>5.760245e+01</td><td>5.760245e+01</td><td>3.114616e+00</td><td>7.886994e-02</td></tr>\n",
       "\t<tr><th scope=row>Wrist</th><td>  1         </td><td>1.793526e+02</td><td>1.793526e+02</td><td>9.697754e+00</td><td>2.070041e-03</td></tr>\n",
       "\t<tr><th scope=row>Residuals</th><td>239         </td><td>4.420123e+03</td><td>1.849424e+01</td><td>          NA</td><td>          NA</td></tr>\n",
       "</tbody>\n",
       "</table>\n"
      ],
      "text/latex": [
       "\\begin{tabular}{r|lllll}\n",
       "  & Df & Sum Sq & Mean Sq & F value & Pr(>F)\\\\\n",
       "\\hline\n",
       "\tAge &   1          & 1.493300e+03 & 1.493300e+03 & 8.074409e+01 & 7.954249e-17\\\\\n",
       "\tWeight &   1          & 6.674331e+03 & 6.674331e+03 & 3.608870e+02 & 1.149998e-49\\\\\n",
       "\tHeight &   1          & 1.580719e+03 & 1.580719e+03 & 8.547087e+01 & 1.349318e-17\\\\\n",
       "\tNeck &   1          & 3.354620e+02 & 3.354620e+02 & 1.813873e+01 & 2.954205e-05\\\\\n",
       "\tChest &   1          & 2.437959e+02 & 2.437959e+02 & 1.318226e+01 & 3.457188e-04\\\\\n",
       "\tAbdomen &   1          & 2.415070e+03 & 2.415070e+03 & 1.305850e+02 & 2.049471e-24\\\\\n",
       "\tHip &   1          & 1.472110e+01 & 1.472110e+01 & 7.959831e-01 & 3.731944e-01\\\\\n",
       "\tThigh &   1          & 1.192963e+02 & 1.192963e+02 & 6.450458e+00 & 1.172706e-02\\\\\n",
       "\tAnkle &   1          & 4.613902e-02 & 4.613902e-02 & 2.494778e-03 & 9.602057e-01\\\\\n",
       "\tBiceps &   1          & 4.517016e+01 & 4.517016e+01 & 2.442391e+00 & 1.194192e-01\\\\\n",
       "\tForearm &   1          & 5.760245e+01 & 5.760245e+01 & 3.114616e+00 & 7.886994e-02\\\\\n",
       "\tWrist &   1          & 1.793526e+02 & 1.793526e+02 & 9.697754e+00 & 2.070041e-03\\\\\n",
       "\tResiduals & 239          & 4.420123e+03 & 1.849424e+01 &           NA &           NA\\\\\n",
       "\\end{tabular}\n"
      ],
      "text/markdown": [
       "\n",
       "| <!--/--> | Df | Sum Sq | Mean Sq | F value | Pr(>F) | \n",
       "|---|---|---|---|---|---|---|---|---|---|---|---|---|\n",
       "| Age |   1          | 1.493300e+03 | 1.493300e+03 | 8.074409e+01 | 7.954249e-17 | \n",
       "| Weight |   1          | 6.674331e+03 | 6.674331e+03 | 3.608870e+02 | 1.149998e-49 | \n",
       "| Height |   1          | 1.580719e+03 | 1.580719e+03 | 8.547087e+01 | 1.349318e-17 | \n",
       "| Neck |   1          | 3.354620e+02 | 3.354620e+02 | 1.813873e+01 | 2.954205e-05 | \n",
       "| Chest |   1          | 2.437959e+02 | 2.437959e+02 | 1.318226e+01 | 3.457188e-04 | \n",
       "| Abdomen |   1          | 2.415070e+03 | 2.415070e+03 | 1.305850e+02 | 2.049471e-24 | \n",
       "| Hip |   1          | 1.472110e+01 | 1.472110e+01 | 7.959831e-01 | 3.731944e-01 | \n",
       "| Thigh |   1          | 1.192963e+02 | 1.192963e+02 | 6.450458e+00 | 1.172706e-02 | \n",
       "| Ankle |   1          | 4.613902e-02 | 4.613902e-02 | 2.494778e-03 | 9.602057e-01 | \n",
       "| Biceps |   1          | 4.517016e+01 | 4.517016e+01 | 2.442391e+00 | 1.194192e-01 | \n",
       "| Forearm |   1          | 5.760245e+01 | 5.760245e+01 | 3.114616e+00 | 7.886994e-02 | \n",
       "| Wrist |   1          | 1.793526e+02 | 1.793526e+02 | 9.697754e+00 | 2.070041e-03 | \n",
       "| Residuals | 239          | 4.420123e+03 | 1.849424e+01 |           NA |           NA | \n",
       "\n",
       "\n"
      ],
      "text/plain": [
       "          Df  Sum Sq       Mean Sq      F value      Pr(>F)      \n",
       "Age         1 1.493300e+03 1.493300e+03 8.074409e+01 7.954249e-17\n",
       "Weight      1 6.674331e+03 6.674331e+03 3.608870e+02 1.149998e-49\n",
       "Height      1 1.580719e+03 1.580719e+03 8.547087e+01 1.349318e-17\n",
       "Neck        1 3.354620e+02 3.354620e+02 1.813873e+01 2.954205e-05\n",
       "Chest       1 2.437959e+02 2.437959e+02 1.318226e+01 3.457188e-04\n",
       "Abdomen     1 2.415070e+03 2.415070e+03 1.305850e+02 2.049471e-24\n",
       "Hip         1 1.472110e+01 1.472110e+01 7.959831e-01 3.731944e-01\n",
       "Thigh       1 1.192963e+02 1.192963e+02 6.450458e+00 1.172706e-02\n",
       "Ankle       1 4.613902e-02 4.613902e-02 2.494778e-03 9.602057e-01\n",
       "Biceps      1 4.517016e+01 4.517016e+01 2.442391e+00 1.194192e-01\n",
       "Forearm     1 5.760245e+01 5.760245e+01 3.114616e+00 7.886994e-02\n",
       "Wrist       1 1.793526e+02 1.793526e+02 9.697754e+00 2.070041e-03\n",
       "Residuals 239 4.420123e+03 1.849424e+01           NA           NA"
      ]
     },
     "metadata": {},
     "output_type": "display_data"
    }
   ],
   "source": [
    "anova(fitted_model_reduced_1)"
   ]
  },
  {
   "cell_type": "code",
   "execution_count": 15,
   "metadata": {},
   "outputs": [
    {
     "data": {
      "text/html": [
       "0.735931713993231"
      ],
      "text/latex": [
       "0.735931713993231"
      ],
      "text/markdown": [
       "0.735931713993231"
      ],
      "text/plain": [
       "[1] 0.7359317"
      ]
     },
     "metadata": {},
     "output_type": "display_data"
    }
   ],
   "source": [
    "# Adjusted R^2 score to shows that it improves adjusted R^2 score by removing rubbish variable\n",
    "summary(fitted_model_reduced_1)$adj.r.squared"
   ]
  },
  {
   "cell_type": "code",
   "execution_count": null,
   "metadata": {},
   "outputs": [],
   "source": [
    "# Improvement in adjusted r^2 score as Knee wasn't useful"
   ]
  },
  {
   "cell_type": "code",
   "execution_count": null,
   "metadata": {},
   "outputs": [],
   "source": [
    "# Largest p-value is Ankle, remove it"
   ]
  },
  {
   "cell_type": "code",
   "execution_count": 18,
   "metadata": {},
   "outputs": [],
   "source": [
    "fitted_model_reduced_2 <- lm(PctBodyFat ~ Age + Weight + Height + Neck + Chest + Abdomen + Hip + Thigh + Biceps + Forearm + Wrist, dataset)"
   ]
  },
  {
   "cell_type": "code",
   "execution_count": 19,
   "metadata": {},
   "outputs": [
    {
     "data": {
      "text/html": [
       "<table>\n",
       "<thead><tr><th></th><th scope=col>Df</th><th scope=col>Sum Sq</th><th scope=col>Mean Sq</th><th scope=col>F value</th><th scope=col>Pr(&gt;F)</th></tr></thead>\n",
       "<tbody>\n",
       "\t<tr><th scope=row>Age</th><td>  1         </td><td>1493.30042  </td><td>1493.30042  </td><td> 80.8517011 </td><td>7.487604e-17</td></tr>\n",
       "\t<tr><th scope=row>Weight</th><td>  1         </td><td>6674.33070  </td><td>6674.33070  </td><td>361.3680025 </td><td>8.898248e-50</td></tr>\n",
       "\t<tr><th scope=row>Height</th><td>  1         </td><td>1580.71870  </td><td>1580.71870  </td><td> 85.5847850 </td><td>1.265543e-17</td></tr>\n",
       "\t<tr><th scope=row>Neck</th><td>  1         </td><td> 335.46204  </td><td> 335.46204  </td><td> 18.1629071 </td><td>2.915342e-05</td></tr>\n",
       "\t<tr><th scope=row>Chest</th><td>  1         </td><td> 243.79594  </td><td> 243.79594  </td><td> 13.1998332 </td><td>3.423837e-04</td></tr>\n",
       "\t<tr><th scope=row>Abdomen</th><td>  1         </td><td>2415.07047  </td><td>2415.07047  </td><td>130.7590574 </td><td>1.856926e-24</td></tr>\n",
       "\t<tr><th scope=row>Hip</th><td>  1         </td><td>  14.72110  </td><td>  14.72110  </td><td>  0.7970439 </td><td>3.728729e-01</td></tr>\n",
       "\t<tr><th scope=row>Thigh</th><td>  1         </td><td> 119.29630  </td><td> 119.29630  </td><td>  6.4590544 </td><td>1.166931e-02</td></tr>\n",
       "\t<tr><th scope=row>Biceps</th><td>  1         </td><td>  44.99762  </td><td>  44.99762  </td><td>  2.4363041 </td><td>1.198729e-01</td></tr>\n",
       "\t<tr><th scope=row>Forearm</th><td>  1         </td><td>  57.80708  </td><td>  57.80708  </td><td>  3.1298461 </td><td>7.814101e-02</td></tr>\n",
       "\t<tr><th scope=row>Wrist</th><td>  1         </td><td> 166.78001  </td><td> 166.78001  </td><td>  9.0299628 </td><td>2.937576e-03</td></tr>\n",
       "\t<tr><th scope=row>Residuals</th><td>240         </td><td>4432.70947  </td><td>  18.46962  </td><td>         NA </td><td>          NA</td></tr>\n",
       "</tbody>\n",
       "</table>\n"
      ],
      "text/latex": [
       "\\begin{tabular}{r|lllll}\n",
       "  & Df & Sum Sq & Mean Sq & F value & Pr(>F)\\\\\n",
       "\\hline\n",
       "\tAge &   1          & 1493.30042   & 1493.30042   &  80.8517011  & 7.487604e-17\\\\\n",
       "\tWeight &   1          & 6674.33070   & 6674.33070   & 361.3680025  & 8.898248e-50\\\\\n",
       "\tHeight &   1          & 1580.71870   & 1580.71870   &  85.5847850  & 1.265543e-17\\\\\n",
       "\tNeck &   1          &  335.46204   &  335.46204   &  18.1629071  & 2.915342e-05\\\\\n",
       "\tChest &   1          &  243.79594   &  243.79594   &  13.1998332  & 3.423837e-04\\\\\n",
       "\tAbdomen &   1          & 2415.07047   & 2415.07047   & 130.7590574  & 1.856926e-24\\\\\n",
       "\tHip &   1          &   14.72110   &   14.72110   &   0.7970439  & 3.728729e-01\\\\\n",
       "\tThigh &   1          &  119.29630   &  119.29630   &   6.4590544  & 1.166931e-02\\\\\n",
       "\tBiceps &   1          &   44.99762   &   44.99762   &   2.4363041  & 1.198729e-01\\\\\n",
       "\tForearm &   1          &   57.80708   &   57.80708   &   3.1298461  & 7.814101e-02\\\\\n",
       "\tWrist &   1          &  166.78001   &  166.78001   &   9.0299628  & 2.937576e-03\\\\\n",
       "\tResiduals & 240          & 4432.70947   &   18.46962   &          NA  &           NA\\\\\n",
       "\\end{tabular}\n"
      ],
      "text/markdown": [
       "\n",
       "| <!--/--> | Df | Sum Sq | Mean Sq | F value | Pr(>F) | \n",
       "|---|---|---|---|---|---|---|---|---|---|---|---|\n",
       "| Age |   1          | 1493.30042   | 1493.30042   |  80.8517011  | 7.487604e-17 | \n",
       "| Weight |   1          | 6674.33070   | 6674.33070   | 361.3680025  | 8.898248e-50 | \n",
       "| Height |   1          | 1580.71870   | 1580.71870   |  85.5847850  | 1.265543e-17 | \n",
       "| Neck |   1          |  335.46204   |  335.46204   |  18.1629071  | 2.915342e-05 | \n",
       "| Chest |   1          |  243.79594   |  243.79594   |  13.1998332  | 3.423837e-04 | \n",
       "| Abdomen |   1          | 2415.07047   | 2415.07047   | 130.7590574  | 1.856926e-24 | \n",
       "| Hip |   1          |   14.72110   |   14.72110   |   0.7970439  | 3.728729e-01 | \n",
       "| Thigh |   1          |  119.29630   |  119.29630   |   6.4590544  | 1.166931e-02 | \n",
       "| Biceps |   1          |   44.99762   |   44.99762   |   2.4363041  | 1.198729e-01 | \n",
       "| Forearm |   1          |   57.80708   |   57.80708   |   3.1298461  | 7.814101e-02 | \n",
       "| Wrist |   1          |  166.78001   |  166.78001   |   9.0299628  | 2.937576e-03 | \n",
       "| Residuals | 240          | 4432.70947   |   18.46962   |          NA  |           NA | \n",
       "\n",
       "\n"
      ],
      "text/plain": [
       "          Df  Sum Sq     Mean Sq    F value     Pr(>F)      \n",
       "Age         1 1493.30042 1493.30042  80.8517011 7.487604e-17\n",
       "Weight      1 6674.33070 6674.33070 361.3680025 8.898248e-50\n",
       "Height      1 1580.71870 1580.71870  85.5847850 1.265543e-17\n",
       "Neck        1  335.46204  335.46204  18.1629071 2.915342e-05\n",
       "Chest       1  243.79594  243.79594  13.1998332 3.423837e-04\n",
       "Abdomen     1 2415.07047 2415.07047 130.7590574 1.856926e-24\n",
       "Hip         1   14.72110   14.72110   0.7970439 3.728729e-01\n",
       "Thigh       1  119.29630  119.29630   6.4590544 1.166931e-02\n",
       "Biceps      1   44.99762   44.99762   2.4363041 1.198729e-01\n",
       "Forearm     1   57.80708   57.80708   3.1298461 7.814101e-02\n",
       "Wrist       1  166.78001  166.78001   9.0299628 2.937576e-03\n",
       "Residuals 240 4432.70947   18.46962          NA           NA"
      ]
     },
     "metadata": {},
     "output_type": "display_data"
    }
   ],
   "source": [
    "anova(fitted_model_reduced_2)"
   ]
  },
  {
   "cell_type": "code",
   "execution_count": 20,
   "metadata": {},
   "outputs": [
    {
     "data": {
      "text/html": [
       "0.736283178713409"
      ],
      "text/latex": [
       "0.736283178713409"
      ],
      "text/markdown": [
       "0.736283178713409"
      ],
      "text/plain": [
       "[1] 0.7362832"
      ]
     },
     "metadata": {},
     "output_type": "display_data"
    }
   ],
   "source": [
    "summary(fitted_model_reduced_2)$adj.r.squared"
   ]
  },
  {
   "cell_type": "code",
   "execution_count": null,
   "metadata": {},
   "outputs": [],
   "source": [
    "# adjusted r^2 score improved again"
   ]
  },
  {
   "cell_type": "code",
   "execution_count": null,
   "metadata": {},
   "outputs": [],
   "source": [
    "#largest p-value is Hip, remove this next"
   ]
  }
 ],
 "metadata": {
  "kernelspec": {
   "display_name": "R",
   "language": "R",
   "name": "ir"
  },
  "language_info": {
   "codemirror_mode": "r",
   "file_extension": ".r",
   "mimetype": "text/x-r-source",
   "name": "R",
   "pygments_lexer": "r",
   "version": "3.4.3"
  }
 },
 "nbformat": 4,
 "nbformat_minor": 2
}
