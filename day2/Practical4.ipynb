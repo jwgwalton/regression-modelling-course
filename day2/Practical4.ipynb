{
 "cells": [
  {
   "cell_type": "code",
   "execution_count": 1,
   "metadata": {},
   "outputs": [],
   "source": [
    "library(foreign) # library for importing sav file (SPSS) into R."
   ]
  },
  {
   "cell_type": "code",
   "execution_count": 2,
   "metadata": {},
   "outputs": [],
   "source": [
    "dataset = read.spss(\"Bodyfat.sav\", to.data.frame=TRUE)"
   ]
  },
  {
   "cell_type": "code",
   "execution_count": 3,
   "metadata": {},
   "outputs": [
    {
     "name": "stdout",
     "output_type": "stream",
     "text": [
      "'data.frame':\t252 obs. of  18 variables:\n",
      " $ Case      : num  1 2 3 4 5 6 7 8 9 10 ...\n",
      " $ PctBodyFat: num  12.3 6.1 25.3 10.4 28.7 20.9 19.2 12.4 4.1 11.7 ...\n",
      " $ Density   : num  1.07 1.09 1.04 1.08 1.03 ...\n",
      " $ Age       : num  23 22 22 26 24 24 26 25 25 23 ...\n",
      " $ Weight    : num  154 173 154 185 184 ...\n",
      " $ Height    : num  67.8 72.2 66.2 72.2 71.2 ...\n",
      " $ Adioposity: num  23.7 23.4 24.7 24.9 25.6 26.5 26.2 23.6 24.6 25.8 ...\n",
      " $ FatFreeWt : num  135 161 116 165 133 ...\n",
      " $ Neck      : num  36.2 38.5 34 37.4 34.4 39 36.4 37.8 38.1 42.1 ...\n",
      " $ Chest     : num  93.1 93.6 95.8 101.8 97.3 ...\n",
      " $ Abdomen   : num  85.2 83 87.9 86.4 100 94.4 90.7 88.5 82.5 88.6 ...\n",
      " $ Hip       : num  94.5 98.7 99.2 101.2 101.9 ...\n",
      " $ Thigh     : num  59 58.7 59.6 60.1 63.2 66 58.4 60 62.9 63.1 ...\n",
      " $ Knee      : num  37.3 37.3 38.9 37.3 42.2 42 38.3 39.4 38.3 41.7 ...\n",
      " $ Ankle     : num  21.9 23.4 24 22.8 24 25.6 22.9 23.2 23.8 25 ...\n",
      " $ Biceps    : num  32 30.5 28.8 32.4 32.2 35.7 31.9 30.5 35.9 35.6 ...\n",
      " $ Forearm   : num  27.4 28.9 25.2 29.4 27.7 30.6 27.8 29 31.1 30 ...\n",
      " $ Wrist     : num  17.1 18.2 16.6 18.2 17.7 18.8 17.7 18.8 18.2 19.2 ...\n",
      " - attr(*, \"variable.labels\")= Named chr  \"\" \"Percentage of body fat\" \"\" \"\" ...\n",
      "  ..- attr(*, \"names\")= chr  \"Case\" \"PctBodyFat\" \"Density\" \"Age\" ...\n",
      " - attr(*, \"codepage\")= int 65001\n"
     ]
    }
   ],
   "source": [
    "str(dataset)"
   ]
  },
  {
   "cell_type": "code",
   "execution_count": 14,
   "metadata": {},
   "outputs": [
    {
     "data": {
      "text/html": [
       "0.803219328902499"
      ],
      "text/latex": [
       "0.803219328902499"
      ],
      "text/markdown": [
       "0.803219328902499"
      ],
      "text/plain": [
       "[1] 0.8032193"
      ]
     },
     "metadata": {},
     "output_type": "display_data"
    }
   ],
   "source": [
    "n <- 31\n",
    "k <- 5\n",
    "\n",
    "# Influential values tests\n",
    "\n",
    "# dffit = 2*sqrt(n/k)\n",
    "2*sqrt(k/n)"
   ]
  },
  {
   "cell_type": "code",
   "execution_count": 15,
   "metadata": {},
   "outputs": [
    {
     "data": {
      "text/html": [
       "0.35921060405355"
      ],
      "text/latex": [
       "0.35921060405355"
      ],
      "text/markdown": [
       "0.35921060405355"
      ],
      "text/plain": [
       "[1] 0.3592106"
      ]
     },
     "metadata": {},
     "output_type": "display_data"
    }
   ],
   "source": [
    "# dfBetas 2/sqrt(n)\n",
    "2/sqrt(n)"
   ]
  },
  {
   "cell_type": "code",
   "execution_count": 16,
   "metadata": {},
   "outputs": [
    {
     "data": {
      "text/html": [
       "0.516129032258065"
      ],
      "text/latex": [
       "0.516129032258065"
      ],
      "text/markdown": [
       "0.516129032258065"
      ],
      "text/plain": [
       "[1] 0.516129"
      ]
     },
     "metadata": {},
     "output_type": "display_data"
    }
   ],
   "source": [
    "# Covariance ratio cutoff values\n",
    "\n",
    "# lower bound\n",
    "1 - 3*(k/n)"
   ]
  },
  {
   "cell_type": "code",
   "execution_count": 17,
   "metadata": {},
   "outputs": [
    {
     "data": {
      "text/html": [
       "1.48387096774194"
      ],
      "text/latex": [
       "1.48387096774194"
      ],
      "text/markdown": [
       "1.48387096774194"
      ],
      "text/plain": [
       "[1] 1.483871"
      ]
     },
     "metadata": {},
     "output_type": "display_data"
    }
   ],
   "source": [
    "# upper bound\n",
    "1 + 3*(k/n)"
   ]
  },
  {
   "cell_type": "code",
   "execution_count": 19,
   "metadata": {},
   "outputs": [],
   "source": [
    "# Multiple regression model"
   ]
  },
  {
   "cell_type": "code",
   "execution_count": 20,
   "metadata": {},
   "outputs": [],
   "source": [
    "fitted_model <- lm(PctBodyFat ~ Abdomen + Weight + Wrist + Forearm, dataset)"
   ]
  },
  {
   "cell_type": "code",
   "execution_count": 21,
   "metadata": {},
   "outputs": [
    {
     "data": {
      "text/html": [
       "<table>\n",
       "<thead><tr><th></th><th scope=col>Df</th><th scope=col>Sum Sq</th><th scope=col>Mean Sq</th><th scope=col>F value</th><th scope=col>Pr(&gt;F)</th></tr></thead>\n",
       "<tbody>\n",
       "\t<tr><th scope=row>Abdomen</th><td>  1         </td><td>11631.5268  </td><td>11631.52681 </td><td>616.754339  </td><td>4.280299e-69</td></tr>\n",
       "\t<tr><th scope=row>Weight</th><td>  1         </td><td> 1004.2178  </td><td> 1004.21778 </td><td> 53.248011  </td><td>4.001931e-12</td></tr>\n",
       "\t<tr><th scope=row>Wrist</th><td>  1         </td><td>  157.1910  </td><td>  157.19103 </td><td>  8.334955  </td><td>4.233424e-03</td></tr>\n",
       "\t<tr><th scope=row>Forearm</th><td>  1         </td><td>  127.8185  </td><td>  127.81846 </td><td>  6.777493  </td><td>9.790163e-03</td></tr>\n",
       "\t<tr><th scope=row>Residuals</th><td>247         </td><td> 4658.2358  </td><td>   18.85925 </td><td>        NA  </td><td>          NA</td></tr>\n",
       "</tbody>\n",
       "</table>\n"
      ],
      "text/latex": [
       "\\begin{tabular}{r|lllll}\n",
       "  & Df & Sum Sq & Mean Sq & F value & Pr(>F)\\\\\n",
       "\\hline\n",
       "\tAbdomen &   1          & 11631.5268   & 11631.52681  & 616.754339   & 4.280299e-69\\\\\n",
       "\tWeight &   1          &  1004.2178   &  1004.21778  &  53.248011   & 4.001931e-12\\\\\n",
       "\tWrist &   1          &   157.1910   &   157.19103  &   8.334955   & 4.233424e-03\\\\\n",
       "\tForearm &   1          &   127.8185   &   127.81846  &   6.777493   & 9.790163e-03\\\\\n",
       "\tResiduals & 247          &  4658.2358   &    18.85925  &         NA   &           NA\\\\\n",
       "\\end{tabular}\n"
      ],
      "text/markdown": [
       "\n",
       "| <!--/--> | Df | Sum Sq | Mean Sq | F value | Pr(>F) | \n",
       "|---|---|---|---|---|\n",
       "| Abdomen |   1          | 11631.5268   | 11631.52681  | 616.754339   | 4.280299e-69 | \n",
       "| Weight |   1          |  1004.2178   |  1004.21778  |  53.248011   | 4.001931e-12 | \n",
       "| Wrist |   1          |   157.1910   |   157.19103  |   8.334955   | 4.233424e-03 | \n",
       "| Forearm |   1          |   127.8185   |   127.81846  |   6.777493   | 9.790163e-03 | \n",
       "| Residuals | 247          |  4658.2358   |    18.85925  |         NA   |           NA | \n",
       "\n",
       "\n"
      ],
      "text/plain": [
       "          Df  Sum Sq     Mean Sq     F value    Pr(>F)      \n",
       "Abdomen     1 11631.5268 11631.52681 616.754339 4.280299e-69\n",
       "Weight      1  1004.2178  1004.21778  53.248011 4.001931e-12\n",
       "Wrist       1   157.1910   157.19103   8.334955 4.233424e-03\n",
       "Forearm     1   127.8185   127.81846   6.777493 9.790163e-03\n",
       "Residuals 247  4658.2358    18.85925         NA           NA"
      ]
     },
     "metadata": {},
     "output_type": "display_data"
    }
   ],
   "source": [
    "anova(fitted_model)"
   ]
  },
  {
   "cell_type": "code",
   "execution_count": null,
   "metadata": {},
   "outputs": [],
   "source": []
  }
 ],
 "metadata": {
  "kernelspec": {
   "display_name": "R",
   "language": "R",
   "name": "ir"
  },
  "language_info": {
   "codemirror_mode": "r",
   "file_extension": ".r",
   "mimetype": "text/x-r-source",
   "name": "R",
   "pygments_lexer": "r",
   "version": "3.4.3"
  }
 },
 "nbformat": 4,
 "nbformat_minor": 2
}
