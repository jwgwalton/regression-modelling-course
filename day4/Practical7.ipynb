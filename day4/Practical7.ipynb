{
 "cells": [
  {
   "cell_type": "code",
   "execution_count": 1,
   "metadata": {},
   "outputs": [],
   "source": [
    "library(foreign) # library for importing sav file (SPSS) into R.\n",
    "library(MASS) # stepwise regression"
   ]
  },
  {
   "cell_type": "code",
   "execution_count": 2,
   "metadata": {},
   "outputs": [],
   "source": [
    "dataset = read.spss(\"../day2/Bodyfat.sav\", to.data.frame=TRUE)"
   ]
  },
  {
   "cell_type": "code",
   "execution_count": 3,
   "metadata": {},
   "outputs": [
    {
     "name": "stdout",
     "output_type": "stream",
     "text": [
      "'data.frame':\t252 obs. of  18 variables:\n",
      " $ Case      : num  1 2 3 4 5 6 7 8 9 10 ...\n",
      " $ PctBodyFat: num  12.3 6.1 25.3 10.4 28.7 20.9 19.2 12.4 4.1 11.7 ...\n",
      " $ Density   : num  1.07 1.09 1.04 1.08 1.03 ...\n",
      " $ Age       : num  23 22 22 26 24 24 26 25 25 23 ...\n",
      " $ Weight    : num  154 173 154 185 184 ...\n",
      " $ Height    : num  67.8 72.2 66.2 72.2 71.2 ...\n",
      " $ Adioposity: num  23.7 23.4 24.7 24.9 25.6 26.5 26.2 23.6 24.6 25.8 ...\n",
      " $ FatFreeWt : num  135 161 116 165 133 ...\n",
      " $ Neck      : num  36.2 38.5 34 37.4 34.4 39 36.4 37.8 38.1 42.1 ...\n",
      " $ Chest     : num  93.1 93.6 95.8 101.8 97.3 ...\n",
      " $ Abdomen   : num  85.2 83 87.9 86.4 100 94.4 90.7 88.5 82.5 88.6 ...\n",
      " $ Hip       : num  94.5 98.7 99.2 101.2 101.9 ...\n",
      " $ Thigh     : num  59 58.7 59.6 60.1 63.2 66 58.4 60 62.9 63.1 ...\n",
      " $ Knee      : num  37.3 37.3 38.9 37.3 42.2 42 38.3 39.4 38.3 41.7 ...\n",
      " $ Ankle     : num  21.9 23.4 24 22.8 24 25.6 22.9 23.2 23.8 25 ...\n",
      " $ Biceps    : num  32 30.5 28.8 32.4 32.2 35.7 31.9 30.5 35.9 35.6 ...\n",
      " $ Forearm   : num  27.4 28.9 25.2 29.4 27.7 30.6 27.8 29 31.1 30 ...\n",
      " $ Wrist     : num  17.1 18.2 16.6 18.2 17.7 18.8 17.7 18.8 18.2 19.2 ...\n",
      " - attr(*, \"variable.labels\")= Named chr  \"\" \"Percentage of body fat\" \"\" \"\" ...\n",
      "  ..- attr(*, \"names\")= chr  \"Case\" \"PctBodyFat\" \"Density\" \"Age\" ...\n",
      " - attr(*, \"codepage\")= int 65001\n"
     ]
    }
   ],
   "source": [
    "str(dataset)"
   ]
  },
  {
   "cell_type": "code",
   "execution_count": 4,
   "metadata": {},
   "outputs": [],
   "source": [
    "fitted_model <- lm(PctBodyFat ~ Age + Weight + Height + Neck + Chest + Abdomen + Hip + Thigh + Knee + Ankle + Biceps + Forearm + Wrist, dataset)"
   ]
  },
  {
   "cell_type": "code",
   "execution_count": 5,
   "metadata": {},
   "outputs": [
    {
     "name": "stdout",
     "output_type": "stream",
     "text": [
      "Start:  AIC=749.85\n",
      "PctBodyFat ~ Age + Weight + Height + Neck + Chest + Abdomen + \n",
      "    Hip + Thigh + Knee + Ankle + Biceps + Forearm + Wrist\n",
      "\n",
      "          Df Sum of Sq    RSS    AIC\n",
      "- Knee     1      0.06 4420.1 747.85\n",
      "- Chest    1      0.51 4420.6 747.88\n",
      "- Height   1      1.12 4421.2 747.91\n",
      "- Ankle    1     11.86 4431.9 748.52\n",
      "- Biceps   1     20.74 4440.8 749.03\n",
      "- Hip      1     31.51 4451.6 749.64\n",
      "<none>                 4420.1 749.85\n",
      "- Weight   1     45.10 4465.2 750.41\n",
      "- Thigh    1     53.61 4473.7 750.89\n",
      "- Age      1     74.72 4494.8 752.07\n",
      "- Neck     1     75.66 4495.7 752.13\n",
      "- Forearm  1     97.11 4517.2 753.33\n",
      "- Wrist    1    178.85 4598.9 757.84\n",
      "- Abdomen  1   2083.46 6503.5 845.17\n",
      "\n",
      "Step:  AIC=747.85\n",
      "PctBodyFat ~ Age + Weight + Height + Neck + Chest + Abdomen + \n",
      "    Hip + Thigh + Ankle + Biceps + Forearm + Wrist\n",
      "\n",
      "          Df Sum of Sq    RSS    AIC\n",
      "- Chest    1      0.52 4420.6 745.88\n",
      "- Height   1      1.06 4421.2 745.91\n",
      "- Ankle    1     12.59 4432.7 746.57\n",
      "- Biceps   1     20.68 4440.8 747.03\n",
      "- Hip      1     31.47 4451.6 747.64\n",
      "<none>                 4420.1 747.85\n",
      "- Weight   1     45.26 4465.4 748.42\n",
      "- Thigh    1     60.46 4480.6 749.28\n",
      "+ Knee     1      0.06 4420.1 749.85\n",
      "- Neck     1     77.09 4497.2 750.21\n",
      "- Age      1     80.99 4501.1 750.43\n",
      "- Forearm  1     98.18 4518.3 751.39\n",
      "- Wrist    1    179.35 4599.5 755.88\n",
      "- Abdomen  1   2083.40 6503.5 843.17\n",
      "\n",
      "Step:  AIC=745.88\n",
      "PctBodyFat ~ Age + Weight + Height + Neck + Abdomen + Hip + Thigh + \n",
      "    Ankle + Biceps + Forearm + Wrist\n",
      "\n",
      "          Df Sum of Sq    RSS    AIC\n",
      "- Height   1      0.68 4421.3 743.92\n",
      "- Ankle    1     12.90 4433.5 744.62\n",
      "- Biceps   1     20.44 4441.1 745.04\n",
      "- Hip      1     31.11 4451.8 745.65\n",
      "<none>                 4420.6 745.88\n",
      "- Weight   1     64.84 4485.5 747.55\n",
      "- Thigh    1     65.82 4486.5 747.61\n",
      "+ Chest    1      0.52 4420.1 747.85\n",
      "+ Knee     1      0.07 4420.6 747.88\n",
      "- Neck     1     76.90 4497.5 748.23\n",
      "- Age      1     80.68 4501.3 748.44\n",
      "- Forearm  1     97.89 4518.5 749.40\n",
      "- Wrist    1    178.96 4599.6 753.88\n",
      "- Abdomen  1   2350.68 6771.3 851.34\n",
      "\n",
      "Step:  AIC=743.92\n",
      "PctBodyFat ~ Age + Weight + Neck + Abdomen + Hip + Thigh + Ankle + \n",
      "    Biceps + Forearm + Wrist\n",
      "\n",
      "          Df Sum of Sq    RSS    AIC\n",
      "- Ankle    1      13.3 4434.6 742.68\n",
      "- Biceps   1      22.4 4443.7 743.19\n",
      "- Hip      1      30.4 4451.8 743.65\n",
      "<none>                 4421.3 743.92\n",
      "- Thigh    1      68.8 4490.1 745.81\n",
      "+ Height   1       0.7 4420.6 745.88\n",
      "+ Chest    1       0.1 4421.2 745.91\n",
      "+ Knee     1       0.0 4421.3 745.92\n",
      "- Neck     1      77.1 4498.4 746.27\n",
      "- Age      1      81.3 4502.6 746.51\n",
      "- Forearm  1      98.1 4519.4 747.45\n",
      "- Weight   1     119.6 4540.9 748.65\n",
      "- Wrist    1     181.3 4602.6 752.05\n",
      "- Abdomen  1    3178.5 7599.9 878.43\n",
      "\n",
      "Step:  AIC=742.68\n",
      "PctBodyFat ~ Age + Weight + Neck + Abdomen + Hip + Thigh + Biceps + \n",
      "    Forearm + Wrist\n",
      "\n",
      "          Df Sum of Sq    RSS    AIC\n",
      "- Biceps   1      20.7 4455.3 741.85\n",
      "- Hip      1      31.7 4466.4 742.47\n",
      "<none>                 4434.6 742.68\n",
      "+ Ankle    1      13.3 4421.3 743.92\n",
      "+ Height   1       1.1 4433.5 744.62\n",
      "+ Knee     1       0.4 4434.2 744.65\n",
      "+ Chest    1       0.2 4434.4 744.66\n",
      "- Thigh    1      72.3 4506.9 744.75\n",
      "- Age      1      77.6 4512.2 745.05\n",
      "- Neck     1      87.3 4521.9 745.59\n",
      "- Forearm  1      97.4 4532.0 746.15\n",
      "- Weight   1     107.2 4541.8 746.69\n",
      "- Wrist    1     168.0 4602.6 750.05\n",
      "- Abdomen  1    3182.0 7616.7 876.98\n",
      "\n",
      "Step:  AIC=741.85\n",
      "PctBodyFat ~ Age + Weight + Neck + Abdomen + Hip + Thigh + Forearm + \n",
      "    Wrist\n",
      "\n",
      "          Df Sum of Sq    RSS    AIC\n",
      "<none>                 4455.3 741.85\n",
      "- Hip      1      36.5 4491.8 741.91\n",
      "+ Biceps   1      20.7 4434.6 742.68\n",
      "+ Ankle    1      11.6 4443.7 743.19\n",
      "+ Height   1       3.2 4452.2 743.67\n",
      "+ Knee     1       0.0 4455.3 743.85\n",
      "+ Chest    1       0.0 4455.3 743.85\n",
      "- Neck     1      79.1 4534.4 744.29\n",
      "- Age      1      83.8 4539.1 744.55\n",
      "- Weight   1      93.0 4548.3 745.05\n",
      "- Thigh    1     100.7 4556.0 745.48\n",
      "- Forearm  1     140.5 4595.8 747.67\n",
      "- Wrist    1     166.8 4622.2 749.12\n",
      "- Abdomen  1    3163.0 7618.3 875.04\n"
     ]
    }
   ],
   "source": [
    "stepwise_regression <- stepAIC(fitted_model, direction=\"both\") # Doesn't ship with BSC, would prefer to use"
   ]
  },
  {
   "cell_type": "code",
   "execution_count": 6,
   "metadata": {},
   "outputs": [
    {
     "data": {
      "text/html": [
       "<table>\n",
       "<thead><tr><th scope=col>Step</th><th scope=col>Df</th><th scope=col>Deviance</th><th scope=col>Resid. Df</th><th scope=col>Resid. Dev</th><th scope=col>AIC</th></tr></thead>\n",
       "<tbody>\n",
       "\t<tr><td>           </td><td>NA         </td><td>         NA</td><td>238        </td><td>4420.064   </td><td>749.8491   </td></tr>\n",
       "\t<tr><td>- Knee     </td><td> 1         </td><td> 0.05885058</td><td>239        </td><td>4420.123   </td><td>747.8524   </td></tr>\n",
       "\t<tr><td>- Chest    </td><td> 1         </td><td> 0.52286065</td><td>240        </td><td>4420.646   </td><td>745.8822   </td></tr>\n",
       "\t<tr><td>- Height   </td><td> 1         </td><td> 0.68462867</td><td>241        </td><td>4421.330   </td><td>743.9212   </td></tr>\n",
       "\t<tr><td>- Ankle    </td><td> 1         </td><td>13.28231735</td><td>242        </td><td>4434.613   </td><td>742.6772   </td></tr>\n",
       "\t<tr><td>- Biceps   </td><td> 1         </td><td>20.71159705</td><td>243        </td><td>4455.324   </td><td>741.8514   </td></tr>\n",
       "</tbody>\n",
       "</table>\n"
      ],
      "text/latex": [
       "\\begin{tabular}{r|llllll}\n",
       " Step & Df & Deviance & Resid. Df & Resid. Dev & AIC\\\\\n",
       "\\hline\n",
       "\t             & NA          &          NA & 238         & 4420.064    & 749.8491   \\\\\n",
       "\t - Knee      &  1          &  0.05885058 & 239         & 4420.123    & 747.8524   \\\\\n",
       "\t - Chest     &  1          &  0.52286065 & 240         & 4420.646    & 745.8822   \\\\\n",
       "\t - Height    &  1          &  0.68462867 & 241         & 4421.330    & 743.9212   \\\\\n",
       "\t - Ankle     &  1          & 13.28231735 & 242         & 4434.613    & 742.6772   \\\\\n",
       "\t - Biceps    &  1          & 20.71159705 & 243         & 4455.324    & 741.8514   \\\\\n",
       "\\end{tabular}\n"
      ],
      "text/markdown": [
       "\n",
       "Step | Df | Deviance | Resid. Df | Resid. Dev | AIC | \n",
       "|---|---|---|---|---|---|\n",
       "|             | NA          |          NA | 238         | 4420.064    | 749.8491    | \n",
       "| - Knee      |  1          |  0.05885058 | 239         | 4420.123    | 747.8524    | \n",
       "| - Chest     |  1          |  0.52286065 | 240         | 4420.646    | 745.8822    | \n",
       "| - Height    |  1          |  0.68462867 | 241         | 4421.330    | 743.9212    | \n",
       "| - Ankle     |  1          | 13.28231735 | 242         | 4434.613    | 742.6772    | \n",
       "| - Biceps    |  1          | 20.71159705 | 243         | 4455.324    | 741.8514    | \n",
       "\n",
       "\n"
      ],
      "text/plain": [
       "  Step     Df Deviance    Resid. Df Resid. Dev AIC     \n",
       "1          NA          NA 238       4420.064   749.8491\n",
       "2 - Knee    1  0.05885058 239       4420.123   747.8524\n",
       "3 - Chest   1  0.52286065 240       4420.646   745.8822\n",
       "4 - Height  1  0.68462867 241       4421.330   743.9212\n",
       "5 - Ankle   1 13.28231735 242       4434.613   742.6772\n",
       "6 - Biceps  1 20.71159705 243       4455.324   741.8514"
      ]
     },
     "metadata": {},
     "output_type": "display_data"
    }
   ],
   "source": [
    "stepwise_regression$anova # display results"
   ]
  },
  {
   "cell_type": "code",
   "execution_count": 7,
   "metadata": {},
   "outputs": [
    {
     "data": {
      "text/plain": [
       "\n",
       "Call:\n",
       "lm(formula = PctBodyFat ~ Age + Weight + Neck + Abdomen + Hip + \n",
       "    Thigh + Forearm + Wrist, data = dataset)\n",
       "\n",
       "Coefficients:\n",
       "(Intercept)          Age       Weight         Neck      Abdomen          Hip  \n",
       "  -22.65637      0.06578     -0.08985     -0.46656      0.94482     -0.19543  \n",
       "      Thigh      Forearm        Wrist  \n",
       "    0.30239      0.51572     -1.53665  \n"
      ]
     },
     "metadata": {},
     "output_type": "display_data"
    }
   ],
   "source": [
    "stepwise_regression"
   ]
  }
 ],
 "metadata": {
  "kernelspec": {
   "display_name": "R",
   "language": "R",
   "name": "ir"
  },
  "language_info": {
   "codemirror_mode": "r",
   "file_extension": ".r",
   "mimetype": "text/x-r-source",
   "name": "R",
   "pygments_lexer": "r",
   "version": "3.4.3"
  }
 },
 "nbformat": 4,
 "nbformat_minor": 2
}
