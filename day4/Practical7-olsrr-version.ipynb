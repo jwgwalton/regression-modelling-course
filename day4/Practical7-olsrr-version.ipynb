{
 "cells": [
  {
   "cell_type": "code",
   "execution_count": 2,
   "metadata": {},
   "outputs": [
    {
     "name": "stderr",
     "output_type": "stream",
     "text": [
      "also installing the dependencies ‘rematch’, ‘SQUAREM’, ‘forcats’, ‘hms’, ‘readr’, ‘cellranger’, ‘zip’, ‘mnormt’, ‘lava’, ‘kernlab’, ‘CVST’, ‘DEoptimR’, ‘magic’, ‘sp’, ‘haven’, ‘data.table’, ‘readxl’, ‘openxlsx’, ‘nloptr’, ‘RcppEigen’, ‘bindr’, ‘psych’, ‘prodlim’, ‘DRR’, ‘robustbase’, ‘sfsmisc’, ‘geometry’, ‘carData’, ‘abind’, ‘pbkrtest’, ‘maptools’, ‘rio’, ‘lme4’, ‘backports’, ‘assertthat’, ‘bindrcpp’, ‘pkgconfig’, ‘Rcpp’, ‘rlang’, ‘tidyselect’, ‘BH’, ‘plogr’, ‘ini’, ‘broom’, ‘ipred’, ‘dimRed’, ‘lubridate’, ‘ddalpha’, ‘gower’, ‘RcppRoll’, ‘httpuv’, ‘xtable’, ‘htmltools’, ‘sourcetools’, ‘later’, ‘promises’, ‘car’, ‘checkmate’, ‘cli’, ‘clisymbols’, ‘dplyr’, ‘gh’, ‘glue’, ‘goftest’, ‘gridExtra’, ‘nortest’, ‘purrr’, ‘recipes’, ‘shiny’, ‘tidyr’\n",
      "\n"
     ]
    },
    {
     "name": "stdout",
     "output_type": "stream",
     "text": [
      "\n",
      "  There are binary versions available but the source versions are later:\n",
      "         binary source needs_compilation\n",
      "sp        1.2-7  1.3-1              TRUE\n",
      "RcppRoll  0.2.2  0.3.0              TRUE\n",
      "later     0.7.2  0.7.3              TRUE\n",
      "\n",
      "\n",
      "The downloaded binary packages are in\n",
      "\t/var/folders/l8/ppxlhm3s58356981xh6xlk880000gp/T//RtmpaokVLa/downloaded_packages\n"
     ]
    },
    {
     "name": "stderr",
     "output_type": "stream",
     "text": [
      "installing the source packages ‘sp’, ‘RcppRoll’, ‘later’\n",
      "\n"
     ]
    }
   ],
   "source": [
    "install.packages('olsrr', repos='http://cran.us.r-project.org')"
   ]
  },
  {
   "cell_type": "code",
   "execution_count": 5,
   "metadata": {},
   "outputs": [],
   "source": [
    "library(olsrr)\n",
    "library(foreign) # library for importing sav file (SPSS) into R."
   ]
  },
  {
   "cell_type": "code",
   "execution_count": 6,
   "metadata": {},
   "outputs": [],
   "source": [
    "dataset = read.spss(\"../day2/Bodyfat.sav\", to.data.frame=TRUE)"
   ]
  },
  {
   "cell_type": "code",
   "execution_count": 7,
   "metadata": {},
   "outputs": [],
   "source": [
    "fitted_model <- lm(PctBodyFat ~ Age + Weight + Height + Neck + Chest + Abdomen + Hip + Thigh + Knee + Ankle + Biceps + Forearm + Wrist, dataset)"
   ]
  },
  {
   "cell_type": "code",
   "execution_count": 8,
   "metadata": {},
   "outputs": [
    {
     "name": "stdout",
     "output_type": "stream",
     "text": [
      "Stepwise Selection Method   \n",
      "---------------------------\n",
      "\n",
      "Candidate Terms: \n",
      "\n",
      "1. Age \n",
      "2. Weight \n",
      "3. Height \n",
      "4. Neck \n",
      "5. Chest \n",
      "6. Abdomen \n",
      "7. Hip \n",
      "8. Thigh \n",
      "9. Knee \n",
      "10. Ankle \n",
      "11. Biceps \n",
      "12. Forearm \n",
      "13. Wrist \n",
      "\n",
      "We are selecting variables based on p value...\n",
      "\n",
      "Variables Entered/Removed: \n",
      "\n",
      "- Abdomen added \n",
      "- Weight added \n",
      "- Wrist added \n",
      "- Forearm added \n",
      "- Neck added \n",
      "\n",
      "No more variables to be added/removed.\n",
      "\n",
      "\n",
      "Final Model Output \n",
      "------------------\n",
      "\n",
      "                        Model Summary                          \n",
      "--------------------------------------------------------------\n",
      "R                       0.859       RMSE                4.328 \n",
      "R-Squared               0.738       Coef. Var          22.598 \n",
      "Adj. R-Squared          0.733       MSE                18.728 \n",
      "Pred R-Squared          0.722       MAE                 3.517 \n",
      "--------------------------------------------------------------\n",
      " RMSE: Root Mean Square Error \n",
      " MSE: Mean Square Error \n",
      " MAE: Mean Absolute Error \n",
      "\n",
      "                                 ANOVA                                  \n",
      "-----------------------------------------------------------------------\n",
      "                 Sum of                                                \n",
      "                Squares         DF    Mean Square       F         Sig. \n",
      "-----------------------------------------------------------------------\n",
      "Regression    12971.820          5       2594.364    138.526    0.0000 \n",
      "Residual       4607.169        246         18.728                      \n",
      "Total         17578.990        251                                     \n",
      "-----------------------------------------------------------------------\n",
      "\n",
      "                                    Parameter Estimates                                     \n",
      "-------------------------------------------------------------------------------------------\n",
      "      model       Beta    Std. Error    Std. Beta      t        Sig       lower      upper \n",
      "-------------------------------------------------------------------------------------------\n",
      "(Intercept)    -30.654         7.655                 -4.004    0.000    -45.731    -15.576 \n",
      "    Abdomen      1.008         0.056        1.299    17.886    0.000      0.897      1.119 \n",
      "     Weight     -0.123         0.026       -0.431    -4.749    0.000     -0.174     -0.072 \n",
      "      Wrist     -1.246         0.468       -0.139    -2.662    0.008     -2.169     -0.324 \n",
      "    Forearm      0.527         0.184        0.127     2.865    0.005      0.165      0.889 \n",
      "       Neck     -0.366         0.221       -0.106    -1.651    0.100     -0.802      0.071 \n",
      "-------------------------------------------------------------------------------------------\n"
     ]
    },
    {
     "data": {
      "text/plain": [
       "\n",
       "                              Stepwise Selection Summary                               \n",
       "--------------------------------------------------------------------------------------\n",
       "                     Added/                   Adj.                                        \n",
       "Step    Variable    Removed     R-Square    R-Square     C(p)         AIC        RMSE     \n",
       "--------------------------------------------------------------------------------------\n",
       "   1    Abdomen     addition       0.662       0.660    72.2430    1517.7903    4.8775    \n",
       "   2     Weight     addition       0.719       0.717    20.1710    1473.1848    4.4556    \n",
       "   3     Wrist      addition       0.728       0.724    13.7070    1467.0412    4.3930    \n",
       "   4    Forearm     addition       0.735       0.731     8.8240    1462.2197    4.3427    \n",
       "   5      Neck      addition       0.738       0.733     8.0750    1461.4419    4.3276    \n",
       "--------------------------------------------------------------------------------------"
      ]
     },
     "metadata": {},
     "output_type": "display_data"
    }
   ],
   "source": [
    "ols_step_both_p(fitted_model) # stepwise with p values"
   ]
  },
  {
   "cell_type": "code",
   "execution_count": null,
   "metadata": {},
   "outputs": [],
   "source": [
    "ols_step_both_aic(fitted)"
   ]
  }
 ],
 "metadata": {
  "kernelspec": {
   "display_name": "R",
   "language": "R",
   "name": "ir"
  },
  "language_info": {
   "codemirror_mode": "r",
   "file_extension": ".r",
   "mimetype": "text/x-r-source",
   "name": "R",
   "pygments_lexer": "r",
   "version": "3.4.3"
  }
 },
 "nbformat": 4,
 "nbformat_minor": 2
}
