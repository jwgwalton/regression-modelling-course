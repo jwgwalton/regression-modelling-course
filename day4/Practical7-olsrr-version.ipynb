{
 "cells": [
  {
   "cell_type": "code",
   "execution_count": 2,
   "metadata": {},
   "outputs": [
    {
     "name": "stderr",
     "output_type": "stream",
     "text": [
      "also installing the dependencies ‘rematch’, ‘SQUAREM’, ‘forcats’, ‘hms’, ‘readr’, ‘cellranger’, ‘zip’, ‘mnormt’, ‘lava’, ‘kernlab’, ‘CVST’, ‘DEoptimR’, ‘magic’, ‘sp’, ‘haven’, ‘data.table’, ‘readxl’, ‘openxlsx’, ‘nloptr’, ‘RcppEigen’, ‘bindr’, ‘psych’, ‘prodlim’, ‘DRR’, ‘robustbase’, ‘sfsmisc’, ‘geometry’, ‘carData’, ‘abind’, ‘pbkrtest’, ‘maptools’, ‘rio’, ‘lme4’, ‘backports’, ‘assertthat’, ‘bindrcpp’, ‘pkgconfig’, ‘Rcpp’, ‘rlang’, ‘tidyselect’, ‘BH’, ‘plogr’, ‘ini’, ‘broom’, ‘ipred’, ‘dimRed’, ‘lubridate’, ‘ddalpha’, ‘gower’, ‘RcppRoll’, ‘httpuv’, ‘xtable’, ‘htmltools’, ‘sourcetools’, ‘later’, ‘promises’, ‘car’, ‘checkmate’, ‘cli’, ‘clisymbols’, ‘dplyr’, ‘gh’, ‘glue’, ‘goftest’, ‘gridExtra’, ‘nortest’, ‘purrr’, ‘recipes’, ‘shiny’, ‘tidyr’\n",
      "\n"
     ]
    },
    {
     "name": "stdout",
     "output_type": "stream",
     "text": [
      "\n",
      "  There are binary versions available but the source versions are later:\n",
      "         binary source needs_compilation\n",
      "sp        1.2-7  1.3-1              TRUE\n",
      "RcppRoll  0.2.2  0.3.0              TRUE\n",
      "later     0.7.2  0.7.3              TRUE\n",
      "\n",
      "\n",
      "The downloaded binary packages are in\n",
      "\t/var/folders/l8/ppxlhm3s58356981xh6xlk880000gp/T//RtmpaokVLa/downloaded_packages\n"
     ]
    },
    {
     "name": "stderr",
     "output_type": "stream",
     "text": [
      "installing the source packages ‘sp’, ‘RcppRoll’, ‘later’\n",
      "\n"
     ]
    }
   ],
   "source": [
    "install.packages('olsrr', repos='http://cran.us.r-project.org')"
   ]
  },
  {
   "cell_type": "code",
   "execution_count": 5,
   "metadata": {},
   "outputs": [],
   "source": [
    "library(olsrr)\n",
    "library(foreign) # library for importing sav file (SPSS) into R."
   ]
  },
  {
   "cell_type": "code",
   "execution_count": 6,
   "metadata": {},
   "outputs": [],
   "source": [
    "dataset = read.spss(\"../day2/Bodyfat.sav\", to.data.frame=TRUE)"
   ]
  },
  {
   "cell_type": "code",
   "execution_count": 7,
   "metadata": {},
   "outputs": [],
   "source": [
    "fitted_model <- lm(PctBodyFat ~ Age + Weight + Height + Neck + Chest + Abdomen + Hip + Thigh + Knee + Ankle + Biceps + Forearm + Wrist, dataset)"
   ]
  },
  {
   "cell_type": "code",
   "execution_count": 8,
   "metadata": {},
   "outputs": [
    {
     "name": "stdout",
     "output_type": "stream",
     "text": [
      "Stepwise Selection Method   \n",
      "---------------------------\n",
      "\n",
      "Candidate Terms: \n",
      "\n",
      "1. Age \n",
      "2. Weight \n",
      "3. Height \n",
      "4. Neck \n",
      "5. Chest \n",
      "6. Abdomen \n",
      "7. Hip \n",
      "8. Thigh \n",
      "9. Knee \n",
      "10. Ankle \n",
      "11. Biceps \n",
      "12. Forearm \n",
      "13. Wrist \n",
      "\n",
      "We are selecting variables based on p value...\n",
      "\n",
      "Variables Entered/Removed: \n",
      "\n",
      "- Abdomen added \n",
      "- Weight added \n",
      "- Wrist added \n",
      "- Forearm added \n",
      "- Neck added \n",
      "\n",
      "No more variables to be added/removed.\n",
      "\n",
      "\n",
      "Final Model Output \n",
      "------------------\n",
      "\n",
      "                        Model Summary                          \n",
      "--------------------------------------------------------------\n",
      "R                       0.859       RMSE                4.328 \n",
      "R-Squared               0.738       Coef. Var          22.598 \n",
      "Adj. R-Squared          0.733       MSE                18.728 \n",
      "Pred R-Squared          0.722       MAE                 3.517 \n",
      "--------------------------------------------------------------\n",
      " RMSE: Root Mean Square Error \n",
      " MSE: Mean Square Error \n",
      " MAE: Mean Absolute Error \n",
      "\n",
      "                                 ANOVA                                  \n",
      "-----------------------------------------------------------------------\n",
      "                 Sum of                                                \n",
      "                Squares         DF    Mean Square       F         Sig. \n",
      "-----------------------------------------------------------------------\n",
      "Regression    12971.820          5       2594.364    138.526    0.0000 \n",
      "Residual       4607.169        246         18.728                      \n",
      "Total         17578.990        251                                     \n",
      "-----------------------------------------------------------------------\n",
      "\n",
      "                                    Parameter Estimates                                     \n",
      "-------------------------------------------------------------------------------------------\n",
      "      model       Beta    Std. Error    Std. Beta      t        Sig       lower      upper \n",
      "-------------------------------------------------------------------------------------------\n",
      "(Intercept)    -30.654         7.655                 -4.004    0.000    -45.731    -15.576 \n",
      "    Abdomen      1.008         0.056        1.299    17.886    0.000      0.897      1.119 \n",
      "     Weight     -0.123         0.026       -0.431    -4.749    0.000     -0.174     -0.072 \n",
      "      Wrist     -1.246         0.468       -0.139    -2.662    0.008     -2.169     -0.324 \n",
      "    Forearm      0.527         0.184        0.127     2.865    0.005      0.165      0.889 \n",
      "       Neck     -0.366         0.221       -0.106    -1.651    0.100     -0.802      0.071 \n",
      "-------------------------------------------------------------------------------------------\n"
     ]
    },
    {
     "data": {
      "text/plain": [
       "\n",
       "                              Stepwise Selection Summary                               \n",
       "--------------------------------------------------------------------------------------\n",
       "                     Added/                   Adj.                                        \n",
       "Step    Variable    Removed     R-Square    R-Square     C(p)         AIC        RMSE     \n",
       "--------------------------------------------------------------------------------------\n",
       "   1    Abdomen     addition       0.662       0.660    72.2430    1517.7903    4.8775    \n",
       "   2     Weight     addition       0.719       0.717    20.1710    1473.1848    4.4556    \n",
       "   3     Wrist      addition       0.728       0.724    13.7070    1467.0412    4.3930    \n",
       "   4    Forearm     addition       0.735       0.731     8.8240    1462.2197    4.3427    \n",
       "   5      Neck      addition       0.738       0.733     8.0750    1461.4419    4.3276    \n",
       "--------------------------------------------------------------------------------------"
      ]
     },
     "metadata": {},
     "output_type": "display_data"
    }
   ],
   "source": [
    "ols_step_both_p(fitted_model) # stepwise with p values"
   ]
  },
  {
   "cell_type": "code",
   "execution_count": 9,
   "metadata": {},
   "outputs": [
    {
     "name": "stdout",
     "output_type": "stream",
     "text": [
      "Stepwise Selection Method \n",
      "-------------------------\n",
      "\n",
      "Candidate Terms: \n",
      "\n",
      "1 . Age \n",
      "2 . Weight \n",
      "3 . Height \n",
      "4 . Neck \n",
      "5 . Chest \n",
      "6 . Abdomen \n",
      "7 . Hip \n",
      "8 . Thigh \n",
      "9 . Knee \n",
      "10 . Ankle \n",
      "11 . Biceps \n",
      "12 . Forearm \n",
      "13 . Wrist \n",
      "\n",
      "\n",
      "Variables Entered/Removed: \n",
      "\n"
     ]
    },
    {
     "name": "stderr",
     "output_type": "stream",
     "text": [
      "Warning message:\n",
      "“package ‘bindrcpp’ was built under R version 3.4.4”"
     ]
    },
    {
     "name": "stdout",
     "output_type": "stream",
     "text": [
      "- Abdomen added \n",
      "- Weight added \n",
      "- Wrist added \n",
      "- Forearm added \n",
      "- Neck added \n",
      "- Age added \n",
      "- Thigh added \n",
      "- Hip added \n",
      "\n",
      "No more variables to be added or removed."
     ]
    },
    {
     "data": {
      "text/plain": [
       "\n",
       "\n",
       "                                 Stepwise Summary                                  \n",
       "---------------------------------------------------------------------------------\n",
       "Variable     Method       AIC         RSS        Sum Sq       R-Sq      Adj. R-Sq \n",
       "---------------------------------------------------------------------------------\n",
       "Abdomen     addition    1517.790    5947.463    11631.527    0.66167      0.66032 \n",
       "Weight      addition    1473.185    4943.245    12635.745    0.71880      0.71654 \n",
       "Wrist       addition    1467.041    4786.054    12792.936    0.72774      0.72445 \n",
       "Forearm     addition    1462.220    4658.236    12920.754    0.73501      0.73072 \n",
       "Neck        addition    1461.442    4607.169    12971.820    0.73792      0.73259 \n",
       "Age         addition    1460.806    4559.235    13019.755    0.74064      0.73429 \n",
       "Thigh       addition    1459.054    4491.849    13087.141    0.74448      0.73715 \n",
       "Hip         addition    1458.996    4455.324    13123.666    0.74655      0.73821 \n",
       "---------------------------------------------------------------------------------\n"
      ]
     },
     "metadata": {},
     "output_type": "display_data"
    }
   ],
   "source": [
    "ols_step_both_aic(fitted_model)"
   ]
  },
  {
   "cell_type": "code",
   "execution_count": 11,
   "metadata": {},
   "outputs": [
    {
     "data": {
      "text/html": [
       "<table>\n",
       "<thead><tr><th></th><th scope=col>mindex</th><th scope=col>n</th><th scope=col>predictors</th><th scope=col>rsquare</th><th scope=col>adjr</th><th scope=col>predrsq</th><th scope=col>cp</th><th scope=col>aic</th><th scope=col>sbic</th><th scope=col>sbc</th><th scope=col>msep</th><th scope=col>fpe</th><th scope=col>apc</th><th scope=col>hsp</th></tr></thead>\n",
       "<tbody>\n",
       "\t<tr><th scope=row>6</th><td> 1                                                                            </td><td> 1                                                                            </td><td>Abdomen                                                                       </td><td>0.6616721                                                                     </td><td>0.6603188                                                                     </td><td>0.6515526                                                                     </td><td>72.243372                                                                     </td><td>1517.790                                                                      </td><td>801.7021                                                                      </td><td>1528.379                                                                      </td><td>23.98018                                                                      </td><td>23.97866                                                                      </td><td>0.3437412                                                                     </td><td>0.09554157                                                                    </td></tr>\n",
       "\t<tr><th scope=row>29</th><td> 2                                                                            </td><td> 2                                                                            </td><td>Weight Abdomen                                                                </td><td>0.7187981                                                                     </td><td>0.7165395                                                                     </td><td>0.7093633                                                                     </td><td>20.170890                                                                     </td><td>1473.185                                                                      </td><td>757.7146                                                                      </td><td>1487.302                                                                      </td><td>20.09191                                                                      </td><td>20.08873                                                                      </td><td>0.2879778                                                                     </td><td>0.08004996                                                                    </td></tr>\n",
       "\t<tr><th scope=row>191</th><td> 3                                                                            </td><td> 3                                                                            </td><td>Weight Abdomen Wrist                                                          </td><td>0.7277401                                                                     </td><td>0.7244466                                                                     </td><td>0.7150479                                                                     </td><td>13.706880                                                                     </td><td>1467.041                                                                      </td><td>751.7181                                                                      </td><td>1484.688                                                                      </td><td>19.61051                                                                      </td><td>19.60493                                                                      </td><td>0.2810425                                                                     </td><td>0.07813201                                                                    </td></tr>\n",
       "\t<tr><th scope=row>727</th><td> 4                                                                            </td><td> 4                                                                            </td><td>Weight Abdomen Forearm Wrist                                                  </td><td>0.7350112                                                                     </td><td>0.7307199                                                                     </td><td>0.7208001                                                                     </td><td> 8.824447                                                                     </td><td>1462.220                                                                      </td><td>747.1215                                                                      </td><td>1483.396                                                                      </td><td>19.24196                                                                      </td><td>19.23345                                                                      </td><td>0.2757171                                                                     </td><td>0.07666363                                                                    </td></tr>\n",
       "\t<tr><th scope=row>1756</th><td> 5                                                                            </td><td> 5                                                                            </td><td>Weight Neck Abdomen Forearm Wrist                                             </td><td>0.7379161                                                                     </td><td>0.7325892                                                                     </td><td>0.7221031                                                                     </td><td> 8.074759                                                                     </td><td>1461.442                                                                      </td><td>746.4862                                                                      </td><td>1486.148                                                                      </td><td>19.18638                                                                      </td><td>19.17424                                                                      </td><td>0.2748684                                                                     </td><td>0.07644217                                                                    </td></tr>\n",
       "\t<tr><th scope=row>2664</th><td> 6                                                                            </td><td> 6                                                                            </td><td>Age Weight Abdomen Thigh Forearm Wrist                                        </td><td>0.7409681                                                                     </td><td>0.7346244                                                                     </td><td>0.7225283                                                                     </td><td> 7.185984                                                                     </td><td>1460.490                                                                      </td><td>745.7327                                                                      </td><td>1488.726                                                                      </td><td>19.11839                                                                      </td><td>19.10207                                                                      </td><td>0.2738338                                                                     </td><td>0.07617129                                                                    </td></tr>\n",
       "\t<tr><th scope=row>4386</th><td> 7                                                                            </td><td> 7                                                                            </td><td>Age Weight Neck Abdomen Thigh Forearm Wrist                                   </td><td>0.7444763                                                                     </td><td>0.7371457                                                                     </td><td>0.7246350                                                                     </td><td> 5.865269                                                                     </td><td>1459.054                                                                      </td><td>744.5757                                                                      </td><td>1490.819                                                                      </td><td>19.01468                                                                      </td><td>18.99364                                                                      </td><td>0.2722794                                                                     </td><td>0.07575809                                                                    </td></tr>\n",
       "\t<tr><th scope=row>6143</th><td> 8                                                                            </td><td> 8                                                                            </td><td>Age Weight Neck Abdomen Hip Thigh Forearm Wrist                               </td><td>0.7465540                                                                     </td><td>0.7382101                                                                     </td><td>0.7252467                                                                     </td><td> 5.898602                                                                     </td><td>1458.996                                                                      </td><td>744.7543                                                                      </td><td>1494.291                                                                      </td><td>19.01593                                                                      </td><td>18.98948                                                                      </td><td>0.2722198                                                                     </td><td>0.07576309                                                                    </td></tr>\n",
       "\t<tr><th scope=row>7374</th><td> 9                                                                            </td><td> 9                                                                            </td><td>Age Weight Neck Abdomen Hip Thigh Biceps Forearm Wrist                        </td><td>0.7477322                                                                     </td><td>0.7383504                                                                     </td><td>0.7243843                                                                     </td><td> 6.783378                                                                     </td><td>1459.822                                                                      </td><td>745.7780                                                                      </td><td>1498.646                                                                      </td><td>19.08461                                                                      </td><td>19.05202                                                                      </td><td>0.2731164                                                                     </td><td>0.07603670                                                                    </td></tr>\n",
       "\t<tr><th scope=row>7966</th><td>10                                                                            </td><td>10                                                                            </td><td>Age Weight Neck Abdomen Hip Thigh Ankle Biceps Forearm Wrist                  </td><td>0.7484878                                                                     </td><td>0.7380516                                                                     </td><td>0.7212694                                                                     </td><td> 8.068187                                                                     </td><td>1461.066                                                                      </td><td>747.2018                                                                      </td><td>1503.419                                                                      </td><td>19.18601                                                                      </td><td>19.14658                                                                      </td><td>0.2744718                                                                     </td><td>0.07644070                                                                    </td></tr>\n",
       "\t<tr><th scope=row>8132</th><td>11                                                                            </td><td>11                                                                            </td><td>Age Weight Height Neck Abdomen Hip Thigh Ankle Biceps Forearm Wrist           </td><td>0.7485267                                                                     </td><td>0.7370009                                                                     </td><td>0.7166298                                                                     </td><td>10.031322                                                                     </td><td>1463.027                                                                      </td><td>749.2837                                                                      </td><td>1508.910                                                                      </td><td>19.34357                                                                      </td><td>19.29647                                                                      </td><td>0.2766206                                                                     </td><td>0.07706844                                                                    </td></tr>\n",
       "\t<tr><th scope=row>8182</th><td>12                                                                            </td><td>12                                                                            </td><td>Age Weight Height Neck Chest Abdomen Hip Thigh Ankle Biceps Forearm Wrist     </td><td>0.7485565                                                                     </td><td>0.7359317                                                                     </td><td>0.7112584                                                                     </td><td>12.003169                                                                     </td><td>1464.997                                                                      </td><td>751.3745                                                                      </td><td>1514.409                                                                      </td><td>19.50381                                                                      </td><td>19.44831                                                                      </td><td>0.2787972                                                                     </td><td>0.07770688                                                                    </td></tr>\n",
       "\t<tr><th scope=row>8191</th><td>13                                                                            </td><td>13                                                                            </td><td>Age Weight Height Neck Chest Abdomen Hip Thigh Knee Ankle Biceps Forearm Wrist</td><td>0.7485598                                                                     </td><td>0.7348257                                                                     </td><td>0.7090686                                                                     </td><td>14.000000                                                                     </td><td>1466.994                                                                      </td><td>753.4892                                                                      </td><td>1519.936                                                                      </td><td>19.66814                                                                      </td><td>19.60346                                                                      </td><td>0.2810214                                                                     </td><td>0.07836159                                                                    </td></tr>\n",
       "</tbody>\n",
       "</table>\n"
      ],
      "text/latex": [
       "\\begin{tabular}{r|llllllllllllll}\n",
       "  & mindex & n & predictors & rsquare & adjr & predrsq & cp & aic & sbic & sbc & msep & fpe & apc & hsp\\\\\n",
       "\\hline\n",
       "\t6 &  1                                                                             &  1                                                                             & Abdomen                                                                        & 0.6616721                                                                      & 0.6603188                                                                      & 0.6515526                                                                      & 72.243372                                                                      & 1517.790                                                                       & 801.7021                                                                       & 1528.379                                                                       & 23.98018                                                                       & 23.97866                                                                       & 0.3437412                                                                      & 0.09554157                                                                    \\\\\n",
       "\t29 &  2                                                                             &  2                                                                             & Weight Abdomen                                                                 & 0.7187981                                                                      & 0.7165395                                                                      & 0.7093633                                                                      & 20.170890                                                                      & 1473.185                                                                       & 757.7146                                                                       & 1487.302                                                                       & 20.09191                                                                       & 20.08873                                                                       & 0.2879778                                                                      & 0.08004996                                                                    \\\\\n",
       "\t191 &  3                                                                             &  3                                                                             & Weight Abdomen Wrist                                                           & 0.7277401                                                                      & 0.7244466                                                                      & 0.7150479                                                                      & 13.706880                                                                      & 1467.041                                                                       & 751.7181                                                                       & 1484.688                                                                       & 19.61051                                                                       & 19.60493                                                                       & 0.2810425                                                                      & 0.07813201                                                                    \\\\\n",
       "\t727 &  4                                                                             &  4                                                                             & Weight Abdomen Forearm Wrist                                                   & 0.7350112                                                                      & 0.7307199                                                                      & 0.7208001                                                                      &  8.824447                                                                      & 1462.220                                                                       & 747.1215                                                                       & 1483.396                                                                       & 19.24196                                                                       & 19.23345                                                                       & 0.2757171                                                                      & 0.07666363                                                                    \\\\\n",
       "\t1756 &  5                                                                             &  5                                                                             & Weight Neck Abdomen Forearm Wrist                                              & 0.7379161                                                                      & 0.7325892                                                                      & 0.7221031                                                                      &  8.074759                                                                      & 1461.442                                                                       & 746.4862                                                                       & 1486.148                                                                       & 19.18638                                                                       & 19.17424                                                                       & 0.2748684                                                                      & 0.07644217                                                                    \\\\\n",
       "\t2664 &  6                                                                             &  6                                                                             & Age Weight Abdomen Thigh Forearm Wrist                                         & 0.7409681                                                                      & 0.7346244                                                                      & 0.7225283                                                                      &  7.185984                                                                      & 1460.490                                                                       & 745.7327                                                                       & 1488.726                                                                       & 19.11839                                                                       & 19.10207                                                                       & 0.2738338                                                                      & 0.07617129                                                                    \\\\\n",
       "\t4386 &  7                                                                             &  7                                                                             & Age Weight Neck Abdomen Thigh Forearm Wrist                                    & 0.7444763                                                                      & 0.7371457                                                                      & 0.7246350                                                                      &  5.865269                                                                      & 1459.054                                                                       & 744.5757                                                                       & 1490.819                                                                       & 19.01468                                                                       & 18.99364                                                                       & 0.2722794                                                                      & 0.07575809                                                                    \\\\\n",
       "\t6143 &  8                                                                             &  8                                                                             & Age Weight Neck Abdomen Hip Thigh Forearm Wrist                                & 0.7465540                                                                      & 0.7382101                                                                      & 0.7252467                                                                      &  5.898602                                                                      & 1458.996                                                                       & 744.7543                                                                       & 1494.291                                                                       & 19.01593                                                                       & 18.98948                                                                       & 0.2722198                                                                      & 0.07576309                                                                    \\\\\n",
       "\t7374 &  9                                                                             &  9                                                                             & Age Weight Neck Abdomen Hip Thigh Biceps Forearm Wrist                         & 0.7477322                                                                      & 0.7383504                                                                      & 0.7243843                                                                      &  6.783378                                                                      & 1459.822                                                                       & 745.7780                                                                       & 1498.646                                                                       & 19.08461                                                                       & 19.05202                                                                       & 0.2731164                                                                      & 0.07603670                                                                    \\\\\n",
       "\t7966 & 10                                                                             & 10                                                                             & Age Weight Neck Abdomen Hip Thigh Ankle Biceps Forearm Wrist                   & 0.7484878                                                                      & 0.7380516                                                                      & 0.7212694                                                                      &  8.068187                                                                      & 1461.066                                                                       & 747.2018                                                                       & 1503.419                                                                       & 19.18601                                                                       & 19.14658                                                                       & 0.2744718                                                                      & 0.07644070                                                                    \\\\\n",
       "\t8132 & 11                                                                             & 11                                                                             & Age Weight Height Neck Abdomen Hip Thigh Ankle Biceps Forearm Wrist            & 0.7485267                                                                      & 0.7370009                                                                      & 0.7166298                                                                      & 10.031322                                                                      & 1463.027                                                                       & 749.2837                                                                       & 1508.910                                                                       & 19.34357                                                                       & 19.29647                                                                       & 0.2766206                                                                      & 0.07706844                                                                    \\\\\n",
       "\t8182 & 12                                                                             & 12                                                                             & Age Weight Height Neck Chest Abdomen Hip Thigh Ankle Biceps Forearm Wrist      & 0.7485565                                                                      & 0.7359317                                                                      & 0.7112584                                                                      & 12.003169                                                                      & 1464.997                                                                       & 751.3745                                                                       & 1514.409                                                                       & 19.50381                                                                       & 19.44831                                                                       & 0.2787972                                                                      & 0.07770688                                                                    \\\\\n",
       "\t8191 & 13                                                                             & 13                                                                             & Age Weight Height Neck Chest Abdomen Hip Thigh Knee Ankle Biceps Forearm Wrist & 0.7485598                                                                      & 0.7348257                                                                      & 0.7090686                                                                      & 14.000000                                                                      & 1466.994                                                                       & 753.4892                                                                       & 1519.936                                                                       & 19.66814                                                                       & 19.60346                                                                       & 0.2810214                                                                      & 0.07836159                                                                    \\\\\n",
       "\\end{tabular}\n"
      ],
      "text/markdown": [
       "\n",
       "| <!--/--> | mindex | n | predictors | rsquare | adjr | predrsq | cp | aic | sbic | sbc | msep | fpe | apc | hsp | \n",
       "|---|---|---|---|---|---|---|---|---|---|---|---|---|\n",
       "| 6 |  1                                                                             |  1                                                                             | Abdomen                                                                        | 0.6616721                                                                      | 0.6603188                                                                      | 0.6515526                                                                      | 72.243372                                                                      | 1517.790                                                                       | 801.7021                                                                       | 1528.379                                                                       | 23.98018                                                                       | 23.97866                                                                       | 0.3437412                                                                      | 0.09554157                                                                     | \n",
       "| 29 |  2                                                                             |  2                                                                             | Weight Abdomen                                                                 | 0.7187981                                                                      | 0.7165395                                                                      | 0.7093633                                                                      | 20.170890                                                                      | 1473.185                                                                       | 757.7146                                                                       | 1487.302                                                                       | 20.09191                                                                       | 20.08873                                                                       | 0.2879778                                                                      | 0.08004996                                                                     | \n",
       "| 191 |  3                                                                             |  3                                                                             | Weight Abdomen Wrist                                                           | 0.7277401                                                                      | 0.7244466                                                                      | 0.7150479                                                                      | 13.706880                                                                      | 1467.041                                                                       | 751.7181                                                                       | 1484.688                                                                       | 19.61051                                                                       | 19.60493                                                                       | 0.2810425                                                                      | 0.07813201                                                                     | \n",
       "| 727 |  4                                                                             |  4                                                                             | Weight Abdomen Forearm Wrist                                                   | 0.7350112                                                                      | 0.7307199                                                                      | 0.7208001                                                                      |  8.824447                                                                      | 1462.220                                                                       | 747.1215                                                                       | 1483.396                                                                       | 19.24196                                                                       | 19.23345                                                                       | 0.2757171                                                                      | 0.07666363                                                                     | \n",
       "| 1756 |  5                                                                             |  5                                                                             | Weight Neck Abdomen Forearm Wrist                                              | 0.7379161                                                                      | 0.7325892                                                                      | 0.7221031                                                                      |  8.074759                                                                      | 1461.442                                                                       | 746.4862                                                                       | 1486.148                                                                       | 19.18638                                                                       | 19.17424                                                                       | 0.2748684                                                                      | 0.07644217                                                                     | \n",
       "| 2664 |  6                                                                             |  6                                                                             | Age Weight Abdomen Thigh Forearm Wrist                                         | 0.7409681                                                                      | 0.7346244                                                                      | 0.7225283                                                                      |  7.185984                                                                      | 1460.490                                                                       | 745.7327                                                                       | 1488.726                                                                       | 19.11839                                                                       | 19.10207                                                                       | 0.2738338                                                                      | 0.07617129                                                                     | \n",
       "| 4386 |  7                                                                             |  7                                                                             | Age Weight Neck Abdomen Thigh Forearm Wrist                                    | 0.7444763                                                                      | 0.7371457                                                                      | 0.7246350                                                                      |  5.865269                                                                      | 1459.054                                                                       | 744.5757                                                                       | 1490.819                                                                       | 19.01468                                                                       | 18.99364                                                                       | 0.2722794                                                                      | 0.07575809                                                                     | \n",
       "| 6143 |  8                                                                             |  8                                                                             | Age Weight Neck Abdomen Hip Thigh Forearm Wrist                                | 0.7465540                                                                      | 0.7382101                                                                      | 0.7252467                                                                      |  5.898602                                                                      | 1458.996                                                                       | 744.7543                                                                       | 1494.291                                                                       | 19.01593                                                                       | 18.98948                                                                       | 0.2722198                                                                      | 0.07576309                                                                     | \n",
       "| 7374 |  9                                                                             |  9                                                                             | Age Weight Neck Abdomen Hip Thigh Biceps Forearm Wrist                         | 0.7477322                                                                      | 0.7383504                                                                      | 0.7243843                                                                      |  6.783378                                                                      | 1459.822                                                                       | 745.7780                                                                       | 1498.646                                                                       | 19.08461                                                                       | 19.05202                                                                       | 0.2731164                                                                      | 0.07603670                                                                     | \n",
       "| 7966 | 10                                                                             | 10                                                                             | Age Weight Neck Abdomen Hip Thigh Ankle Biceps Forearm Wrist                   | 0.7484878                                                                      | 0.7380516                                                                      | 0.7212694                                                                      |  8.068187                                                                      | 1461.066                                                                       | 747.2018                                                                       | 1503.419                                                                       | 19.18601                                                                       | 19.14658                                                                       | 0.2744718                                                                      | 0.07644070                                                                     | \n",
       "| 8132 | 11                                                                             | 11                                                                             | Age Weight Height Neck Abdomen Hip Thigh Ankle Biceps Forearm Wrist            | 0.7485267                                                                      | 0.7370009                                                                      | 0.7166298                                                                      | 10.031322                                                                      | 1463.027                                                                       | 749.2837                                                                       | 1508.910                                                                       | 19.34357                                                                       | 19.29647                                                                       | 0.2766206                                                                      | 0.07706844                                                                     | \n",
       "| 8182 | 12                                                                             | 12                                                                             | Age Weight Height Neck Chest Abdomen Hip Thigh Ankle Biceps Forearm Wrist      | 0.7485565                                                                      | 0.7359317                                                                      | 0.7112584                                                                      | 12.003169                                                                      | 1464.997                                                                       | 751.3745                                                                       | 1514.409                                                                       | 19.50381                                                                       | 19.44831                                                                       | 0.2787972                                                                      | 0.07770688                                                                     | \n",
       "| 8191 | 13                                                                             | 13                                                                             | Age Weight Height Neck Chest Abdomen Hip Thigh Knee Ankle Biceps Forearm Wrist | 0.7485598                                                                      | 0.7348257                                                                      | 0.7090686                                                                      | 14.000000                                                                      | 1466.994                                                                       | 753.4892                                                                       | 1519.936                                                                       | 19.66814                                                                       | 19.60346                                                                       | 0.2810214                                                                      | 0.07836159                                                                     | \n",
       "\n",
       "\n"
      ],
      "text/plain": [
       "     mindex n \n",
       "6     1      1\n",
       "29    2      2\n",
       "191   3      3\n",
       "727   4      4\n",
       "1756  5      5\n",
       "2664  6      6\n",
       "4386  7      7\n",
       "6143  8      8\n",
       "7374  9      9\n",
       "7966 10     10\n",
       "8132 11     11\n",
       "8182 12     12\n",
       "8191 13     13\n",
       "     predictors                                                                    \n",
       "6    Abdomen                                                                       \n",
       "29   Weight Abdomen                                                                \n",
       "191  Weight Abdomen Wrist                                                          \n",
       "727  Weight Abdomen Forearm Wrist                                                  \n",
       "1756 Weight Neck Abdomen Forearm Wrist                                             \n",
       "2664 Age Weight Abdomen Thigh Forearm Wrist                                        \n",
       "4386 Age Weight Neck Abdomen Thigh Forearm Wrist                                   \n",
       "6143 Age Weight Neck Abdomen Hip Thigh Forearm Wrist                               \n",
       "7374 Age Weight Neck Abdomen Hip Thigh Biceps Forearm Wrist                        \n",
       "7966 Age Weight Neck Abdomen Hip Thigh Ankle Biceps Forearm Wrist                  \n",
       "8132 Age Weight Height Neck Abdomen Hip Thigh Ankle Biceps Forearm Wrist           \n",
       "8182 Age Weight Height Neck Chest Abdomen Hip Thigh Ankle Biceps Forearm Wrist     \n",
       "8191 Age Weight Height Neck Chest Abdomen Hip Thigh Knee Ankle Biceps Forearm Wrist\n",
       "     rsquare   adjr      predrsq   cp        aic      sbic     sbc     \n",
       "6    0.6616721 0.6603188 0.6515526 72.243372 1517.790 801.7021 1528.379\n",
       "29   0.7187981 0.7165395 0.7093633 20.170890 1473.185 757.7146 1487.302\n",
       "191  0.7277401 0.7244466 0.7150479 13.706880 1467.041 751.7181 1484.688\n",
       "727  0.7350112 0.7307199 0.7208001  8.824447 1462.220 747.1215 1483.396\n",
       "1756 0.7379161 0.7325892 0.7221031  8.074759 1461.442 746.4862 1486.148\n",
       "2664 0.7409681 0.7346244 0.7225283  7.185984 1460.490 745.7327 1488.726\n",
       "4386 0.7444763 0.7371457 0.7246350  5.865269 1459.054 744.5757 1490.819\n",
       "6143 0.7465540 0.7382101 0.7252467  5.898602 1458.996 744.7543 1494.291\n",
       "7374 0.7477322 0.7383504 0.7243843  6.783378 1459.822 745.7780 1498.646\n",
       "7966 0.7484878 0.7380516 0.7212694  8.068187 1461.066 747.2018 1503.419\n",
       "8132 0.7485267 0.7370009 0.7166298 10.031322 1463.027 749.2837 1508.910\n",
       "8182 0.7485565 0.7359317 0.7112584 12.003169 1464.997 751.3745 1514.409\n",
       "8191 0.7485598 0.7348257 0.7090686 14.000000 1466.994 753.4892 1519.936\n",
       "     msep     fpe      apc       hsp       \n",
       "6    23.98018 23.97866 0.3437412 0.09554157\n",
       "29   20.09191 20.08873 0.2879778 0.08004996\n",
       "191  19.61051 19.60493 0.2810425 0.07813201\n",
       "727  19.24196 19.23345 0.2757171 0.07666363\n",
       "1756 19.18638 19.17424 0.2748684 0.07644217\n",
       "2664 19.11839 19.10207 0.2738338 0.07617129\n",
       "4386 19.01468 18.99364 0.2722794 0.07575809\n",
       "6143 19.01593 18.98948 0.2722198 0.07576309\n",
       "7374 19.08461 19.05202 0.2731164 0.07603670\n",
       "7966 19.18601 19.14658 0.2744718 0.07644070\n",
       "8132 19.34357 19.29647 0.2766206 0.07706844\n",
       "8182 19.50381 19.44831 0.2787972 0.07770688\n",
       "8191 19.66814 19.60346 0.2810214 0.07836159"
      ]
     },
     "metadata": {},
     "output_type": "display_data"
    }
   ],
   "source": [
    "ols_step_best_subset(fitted_model)"
   ]
  },
  {
   "cell_type": "code",
   "execution_count": null,
   "metadata": {},
   "outputs": [],
   "source": []
  }
 ],
 "metadata": {
  "kernelspec": {
   "display_name": "R",
   "language": "R",
   "name": "ir"
  },
  "language_info": {
   "codemirror_mode": "r",
   "file_extension": ".r",
   "mimetype": "text/x-r-source",
   "name": "R",
   "pygments_lexer": "r",
   "version": "3.4.3"
  }
 },
 "nbformat": 4,
 "nbformat_minor": 2
}
