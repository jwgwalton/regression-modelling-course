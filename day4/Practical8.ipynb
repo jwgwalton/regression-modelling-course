{
 "cells": [
  {
   "cell_type": "code",
   "execution_count": 5,
   "metadata": {},
   "outputs": [
    {
     "name": "stdout",
     "output_type": "stream",
     "text": [
      "\n",
      "The downloaded binary packages are in\n",
      "\t/var/folders/l8/ppxlhm3s58356981xh6xlk880000gp/T//RtmpA3nnl4/downloaded_packages\n"
     ]
    }
   ],
   "source": [
    "install.packages('pscl', repos='http://cran.us.r-project.org')"
   ]
  },
  {
   "cell_type": "code",
   "execution_count": 6,
   "metadata": {},
   "outputs": [
    {
     "name": "stderr",
     "output_type": "stream",
     "text": [
      "Classes and Methods for R developed in the\n",
      "Political Science Computational Laboratory\n",
      "Department of Political Science\n",
      "Stanford University\n",
      "Simon Jackman\n",
      "hurdle and zeroinfl functions by Achim Zeileis\n"
     ]
    }
   ],
   "source": [
    "library(foreign) # library for importing sav file (SPSS) into R.\n",
    "library(pscl) # "
   ]
  },
  {
   "cell_type": "code",
   "execution_count": 8,
   "metadata": {},
   "outputs": [],
   "source": [
    "dataset = read.spss(\"./data/logitreg.sav\", to.data.frame=TRUE)"
   ]
  },
  {
   "cell_type": "code",
   "execution_count": 9,
   "metadata": {},
   "outputs": [
    {
     "name": "stdout",
     "output_type": "stream",
     "text": [
      "'data.frame':\t400 obs. of  6 variables:\n",
      " $ code: num  1 2 3 4 5 6 7 8 9 10 ...\n",
      " $ y   : num  0 0 0 0 0 0 0 0 0 0 ...\n",
      " $ x2  : num  -0.0292 3.3346 2.9454 2.4866 3.4846 ...\n",
      " $ x3  : num  0.5 0.5 0.5 0.5 0.5 0.5 0.5 0.5 0.5 0.5 ...\n",
      " $ x4  : num  1 1 1 1 1 1 1 1 1 1 ...\n",
      " $ x5  : num  1.5 1.5 1.5 1.5 1.5 1.5 1.5 1.5 1.5 1.5 ...\n",
      " - attr(*, \"codepage\")= int 65001\n"
     ]
    }
   ],
   "source": [
    "str(dataset)"
   ]
  },
  {
   "cell_type": "code",
   "execution_count": 10,
   "metadata": {},
   "outputs": [
    {
     "name": "stderr",
     "output_type": "stream",
     "text": [
      "Warning message:\n",
      "“glm.fit: fitted probabilities numerically 0 or 1 occurred”"
     ]
    }
   ],
   "source": [
    "fitted_model <- glm(y ~ x2 + x3 + x4 + x5, binomial, data = dataset) "
   ]
  },
  {
   "cell_type": "code",
   "execution_count": 11,
   "metadata": {},
   "outputs": [
    {
     "data": {
      "text/plain": [
       "\n",
       "Call:\n",
       "glm(formula = y ~ x2 + x3 + x4 + x5, family = binomial, data = dataset)\n",
       "\n",
       "Deviance Residuals: \n",
       "    Min       1Q   Median       3Q      Max  \n",
       "-0.7943  -0.2618  -0.0092   0.0002   4.6541  \n",
       "\n",
       "Coefficients:\n",
       "              Estimate Std. Error z value Pr(>|z|)    \n",
       "(Intercept) -1.600e+01  3.347e+00  -4.779 1.76e-06 ***\n",
       "x2           8.727e-04  4.056e-01   0.002  0.99828    \n",
       "x3           1.553e+00  3.398e-01   4.572 4.83e-06 ***\n",
       "x4           8.922e+00  1.922e+00   4.642 3.45e-06 ***\n",
       "x5           1.960e+00  7.448e-01   2.631  0.00851 ** \n",
       "---\n",
       "Signif. codes:  0 ‘***’ 0.001 ‘**’ 0.01 ‘*’ 0.05 ‘.’ 0.1 ‘ ’ 1\n",
       "\n",
       "(Dispersion parameter for binomial family taken to be 1)\n",
       "\n",
       "    Null deviance: 554.518  on 399  degrees of freedom\n",
       "Residual deviance:  57.759  on 395  degrees of freedom\n",
       "AIC: 67.759\n",
       "\n",
       "Number of Fisher Scoring iterations: 10\n"
      ]
     },
     "metadata": {},
     "output_type": "display_data"
    }
   ],
   "source": [
    "summary(fitted_model)"
   ]
  },
  {
   "cell_type": "code",
   "execution_count": null,
   "metadata": {},
   "outputs": [],
   "source": []
  }
 ],
 "metadata": {
  "kernelspec": {
   "display_name": "R",
   "language": "R",
   "name": "ir"
  },
  "language_info": {
   "codemirror_mode": "r",
   "file_extension": ".r",
   "mimetype": "text/x-r-source",
   "name": "R",
   "pygments_lexer": "r",
   "version": "3.4.3"
  }
 },
 "nbformat": 4,
 "nbformat_minor": 2
}
