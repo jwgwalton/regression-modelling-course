{
 "cells": [
  {
   "cell_type": "code",
   "execution_count": 1,
   "metadata": {},
   "outputs": [
    {
     "name": "stdout",
     "output_type": "stream",
     "text": [
      "\n",
      "The downloaded binary packages are in\n",
      "\t/var/folders/l8/ppxlhm3s58356981xh6xlk880000gp/T//RtmpV5BGFy/downloaded_packages\n",
      "\n",
      "The downloaded binary packages are in\n",
      "\t/var/folders/l8/ppxlhm3s58356981xh6xlk880000gp/T//RtmpV5BGFy/downloaded_packages\n"
     ]
    }
   ],
   "source": [
    "install.packages('pscl', repos='http://cran.us.r-project.org')\n",
    "install.packages('vcdExtra', repos='http://cran.us.r-project.org')"
   ]
  },
  {
   "cell_type": "code",
   "execution_count": 12,
   "metadata": {},
   "outputs": [],
   "source": [
    "library(foreign) # library for importing sav file (SPSS) into R.\n",
    "library(pscl) # \n",
    "library(MASS)"
   ]
  },
  {
   "cell_type": "code",
   "execution_count": 13,
   "metadata": {},
   "outputs": [],
   "source": [
    "dataset = read.spss(\"./data/logitreg.sav\", to.data.frame=TRUE)"
   ]
  },
  {
   "cell_type": "code",
   "execution_count": 14,
   "metadata": {},
   "outputs": [
    {
     "name": "stdout",
     "output_type": "stream",
     "text": [
      "'data.frame':\t400 obs. of  6 variables:\n",
      " $ code: num  1 2 3 4 5 6 7 8 9 10 ...\n",
      " $ y   : num  0 0 0 0 0 0 0 0 0 0 ...\n",
      " $ x2  : num  -0.0292 3.3346 2.9454 2.4866 3.4846 ...\n",
      " $ x3  : num  0.5 0.5 0.5 0.5 0.5 0.5 0.5 0.5 0.5 0.5 ...\n",
      " $ x4  : num  1 1 1 1 1 1 1 1 1 1 ...\n",
      " $ x5  : num  1.5 1.5 1.5 1.5 1.5 1.5 1.5 1.5 1.5 1.5 ...\n",
      " - attr(*, \"codepage\")= int 65001\n"
     ]
    }
   ],
   "source": [
    "str(dataset)"
   ]
  },
  {
   "cell_type": "code",
   "execution_count": 15,
   "metadata": {},
   "outputs": [
    {
     "name": "stderr",
     "output_type": "stream",
     "text": [
      "Warning message:\n",
      "“glm.fit: fitted probabilities numerically 0 or 1 occurred”"
     ]
    }
   ],
   "source": [
    "fitted_model <- glm(y ~ x2 + x3 + x4 + x5, binomial, data = dataset) "
   ]
  },
  {
   "cell_type": "code",
   "execution_count": 16,
   "metadata": {},
   "outputs": [
    {
     "data": {
      "text/plain": [
       "\n",
       "Call:\n",
       "glm(formula = y ~ x2 + x3 + x4 + x5, family = binomial, data = dataset)\n",
       "\n",
       "Deviance Residuals: \n",
       "    Min       1Q   Median       3Q      Max  \n",
       "-0.7943  -0.2618  -0.0092   0.0002   4.6541  \n",
       "\n",
       "Coefficients:\n",
       "              Estimate Std. Error z value Pr(>|z|)    \n",
       "(Intercept) -1.600e+01  3.347e+00  -4.779 1.76e-06 ***\n",
       "x2           8.727e-04  4.056e-01   0.002  0.99828    \n",
       "x3           1.553e+00  3.398e-01   4.572 4.83e-06 ***\n",
       "x4           8.922e+00  1.922e+00   4.642 3.45e-06 ***\n",
       "x5           1.960e+00  7.448e-01   2.631  0.00851 ** \n",
       "---\n",
       "Signif. codes:  0 ‘***’ 0.001 ‘**’ 0.01 ‘*’ 0.05 ‘.’ 0.1 ‘ ’ 1\n",
       "\n",
       "(Dispersion parameter for binomial family taken to be 1)\n",
       "\n",
       "    Null deviance: 554.518  on 399  degrees of freedom\n",
       "Residual deviance:  57.759  on 395  degrees of freedom\n",
       "AIC: 67.759\n",
       "\n",
       "Number of Fisher Scoring iterations: 10\n"
      ]
     },
     "metadata": {},
     "output_type": "display_data"
    }
   ],
   "source": [
    "summary(fitted_model)"
   ]
  },
  {
   "cell_type": "code",
   "execution_count": 17,
   "metadata": {},
   "outputs": [
    {
     "data": {
      "text/html": [
       "<dl class=dl-horizontal>\n",
       "\t<dt>llh</dt>\n",
       "\t\t<dd>-28.8795703640606</dd>\n",
       "\t<dt>llhNull</dt>\n",
       "\t\t<dd>-277.258872223978</dd>\n",
       "\t<dt>G2</dt>\n",
       "\t\t<dd>496.758603719835</dd>\n",
       "\t<dt>McFadden</dt>\n",
       "\t\t<dd>0.895838967631915</dd>\n",
       "\t<dt>r2ML</dt>\n",
       "\t\t<dd>0.711164081829279</dd>\n",
       "\t<dt>r2CU</dt>\n",
       "\t\t<dd>0.948218775772371</dd>\n",
       "</dl>\n"
      ],
      "text/latex": [
       "\\begin{description*}\n",
       "\\item[llh] -28.8795703640606\n",
       "\\item[llhNull] -277.258872223978\n",
       "\\item[G2] 496.758603719835\n",
       "\\item[McFadden] 0.895838967631915\n",
       "\\item[r2ML] 0.711164081829279\n",
       "\\item[r2CU] 0.948218775772371\n",
       "\\end{description*}\n"
      ],
      "text/markdown": [
       "llh\n",
       ":   -28.8795703640606llhNull\n",
       ":   -277.258872223978G2\n",
       ":   496.758603719835McFadden\n",
       ":   0.895838967631915r2ML\n",
       ":   0.711164081829279r2CU\n",
       ":   0.948218775772371\n",
       "\n"
      ],
      "text/plain": [
       "         llh      llhNull           G2     McFadden         r2ML         r2CU \n",
       " -28.8795704 -277.2588722  496.7586037    0.8958390    0.7111641    0.9482188 "
      ]
     },
     "metadata": {},
     "output_type": "display_data"
    }
   ],
   "source": [
    "pR2(fitted_model)"
   ]
  },
  {
   "cell_type": "code",
   "execution_count": 18,
   "metadata": {},
   "outputs": [],
   "source": [
    "# llh: log-likelihood from fitted model\n",
    "# llhNull: log-likelhiood from intercept-only restricted model\n",
    "# G2: -2* difference in log-likelihoods\n",
    "# McFadden: McFaddens' pseudo r-squared\n",
    "# r2ML: Maximum likelihood pseudo r-squared (Cox & Snell) \n",
    "# r2CU: Cragg and Uhler's pseudo r-squared (Nagelkerke) "
   ]
  },
  {
   "cell_type": "code",
   "execution_count": 19,
   "metadata": {},
   "outputs": [],
   "source": [
    "library(vcdExtra)"
   ]
  },
  {
   "cell_type": "code",
   "execution_count": 20,
   "metadata": {},
   "outputs": [],
   "source": [
    "grp10 <- HLtest(fitted_model, g=10)"
   ]
  },
  {
   "cell_type": "code",
   "execution_count": 23,
   "metadata": {},
   "outputs": [],
   "source": [
    "#cbind(grp10$observed, round(grp10$expect, digits = 1)) "
   ]
  },
  {
   "cell_type": "code",
   "execution_count": 24,
   "metadata": {},
   "outputs": [
    {
     "data": {
      "text/plain": [
       "Hosmer and Lemeshow Goodness-of-Fit Test \n",
       "\n",
       "Call:\n",
       "glm(formula = y ~ x2 + x3 + x4 + x5, family = binomial, data = dataset)\n",
       " ChiSquare df    P_value\n",
       "  14.55871  8 0.06831571"
      ]
     },
     "metadata": {},
     "output_type": "display_data"
    }
   ],
   "source": [
    "grp10 "
   ]
  }
 ],
 "metadata": {
  "kernelspec": {
   "display_name": "R",
   "language": "R",
   "name": "ir"
  },
  "language_info": {
   "codemirror_mode": "r",
   "file_extension": ".r",
   "mimetype": "text/x-r-source",
   "name": "R",
   "pygments_lexer": "r",
   "version": "3.4.3"
  }
 },
 "nbformat": 4,
 "nbformat_minor": 2
}
