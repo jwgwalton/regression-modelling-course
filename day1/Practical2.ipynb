{
 "cells": [
  {
   "cell_type": "code",
   "execution_count": 1,
   "metadata": {},
   "outputs": [],
   "source": [
    "library(foreign) # library for importing sav file (SPSS) into R.\n",
    "#library(nortest) # library for testing for normality"
   ]
  },
  {
   "cell_type": "code",
   "execution_count": 2,
   "metadata": {},
   "outputs": [],
   "source": [
    "dataset = read.spss(\"trig.sav\", to.data.frame=TRUE)"
   ]
  },
  {
   "cell_type": "code",
   "execution_count": 3,
   "metadata": {},
   "outputs": [
    {
     "ename": "ERROR",
     "evalue": "Error in parse(text = x, srcfile = src): <text>:3:5: unexpected symbol\n2: # Retrieve the file trig.sav. The data for this example are from a study of obese patients who took a drug and followed a weight reduction programme for 8 weeks. \n3: One objective\n       ^\n",
     "output_type": "error",
     "traceback": [
      "Error in parse(text = x, srcfile = src): <text>:3:5: unexpected symbol\n2: # Retrieve the file trig.sav. The data for this example are from a study of obese patients who took a drug and followed a weight reduction programme for 8 weeks. \n3: One objective\n       ^\nTraceback:\n"
     ]
    }
   ],
   "source": [
    "# Practical Week 2 \n",
    "# Retrieve the file trig.sav. The data for this example are from a study of obese patients who took a drug and followed a weight reduction programme for 8 weeks. \n",
    "# One objective of the study was to see whether weight loss leads to reductions in triglyceride levels.   \n",
    "# The weight loss and reduction in triglyceride levels-together with few other variables- for 34 patients were recorded.  \n",
    "\n",
    "# 1. Plot the scatter diagram of reduction in triglyceride against weight-loss, add the regression line and comment. \n",
    "#    Carry out the regression of the reduction in triglyceride levels on weight-loss. \n",
    "# 2. How large/small is R-squared? \n",
    "# 3.  Is the regression statistically significant? \n",
    "# 4. What is the estimate of  ? \n",
    "# 5. Write down the regression equation. \n",
    "    6. Check the validity of assumptions of the regression as described in the lecture. "
   ]
  },
  {
   "cell_type": "code",
   "execution_count": null,
   "metadata": {},
   "outputs": [],
   "source": [
    "str(dataset)"
   ]
  },
  {
   "cell_type": "code",
   "execution_count": null,
   "metadata": {},
   "outputs": [],
   "source": [
    "dataset$variable.labels"
   ]
  },
  {
   "cell_type": "code",
   "execution_count": null,
   "metadata": {},
   "outputs": [],
   "source": [
    "plot(dataset$wtloss, dataset$trigredn)"
   ]
  },
  {
   "cell_type": "code",
   "execution_count": null,
   "metadata": {},
   "outputs": [],
   "source": [
    "fitted_model <- lm(trigredn ~ wtloss, dataset)"
   ]
  },
  {
   "cell_type": "code",
   "execution_count": null,
   "metadata": {},
   "outputs": [],
   "source": [
    "summary(fitted_model)"
   ]
  },
  {
   "cell_type": "code",
   "execution_count": null,
   "metadata": {},
   "outputs": [],
   "source": [
    "plot(dataset$wtloss, dataset$trigredn, main=\"Triglyceride levels in study on obese patient\", xlab=\"Weight lost\", ylab='Triglyceride reduction')\n",
    "abline(fitted_model, col='red')"
   ]
  },
  {
   "cell_type": "code",
   "execution_count": null,
   "metadata": {},
   "outputs": [],
   "source": [
    "# From summary statistics, for H_0: /Beta = 0, p_value = 0.0524,\n",
    "# Null hypothesis is that Y and X are uncorrelated, beta=0, the p value says this is marginally insignificant (~5%)"
   ]
  },
  {
   "cell_type": "code",
   "execution_count": null,
   "metadata": {},
   "outputs": [],
   "source": [
    "anova(fitted_model)"
   ]
  },
  {
   "cell_type": "code",
   "execution_count": null,
   "metadata": {},
   "outputs": [],
   "source": [
    "# What is the estimate of  s^2?\n",
    "# s^2 = 2381.503, s = 48.80066, "
   ]
  },
  {
   "cell_type": "code",
   "execution_count": null,
   "metadata": {},
   "outputs": [],
   "source": [
    "# Tests for normality"
   ]
  },
  {
   "cell_type": "code",
   "execution_count": null,
   "metadata": {},
   "outputs": [],
   "source": [
    "residual.varnmae = residuals(fitted_model)"
   ]
  },
  {
   "cell_type": "code",
   "execution_count": null,
   "metadata": {},
   "outputs": [],
   "source": [
    "# lillie.test(residual.varname)\n",
    "# shapiro.test(residual.varname)"
   ]
  },
  {
   "cell_type": "code",
   "execution_count": null,
   "metadata": {
    "scrolled": false
   },
   "outputs": [],
   "source": [
    "# TODO: other tests for assumptions from the lectures"
   ]
  }
 ],
 "metadata": {
  "kernelspec": {
   "display_name": "R",
   "language": "R",
   "name": "ir"
  },
  "language_info": {
   "codemirror_mode": "r",
   "file_extension": ".r",
   "mimetype": "text/x-r-source",
   "name": "R",
   "pygments_lexer": "r",
   "version": "3.4.3"
  }
 },
 "nbformat": 4,
 "nbformat_minor": 2
}
